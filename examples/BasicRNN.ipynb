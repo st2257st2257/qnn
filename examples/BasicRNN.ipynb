{
 "cells": [
  {
   "cell_type": "code",
   "execution_count": 1,
   "metadata": {
    "ExecuteTime": {
     "end_time": "2021-09-24T16:26:12.863345Z",
     "start_time": "2021-09-24T16:26:04.513939Z"
    }
   },
   "outputs": [
    {
     "name": "stderr",
     "output_type": "stream",
     "text": [
      "<ipython-input-1-643513dcf172>:1: TqdmExperimentalWarning: Using `tqdm.autonotebook.tqdm` in notebook mode. Use `tqdm.tqdm` instead to force console mode (e.g. in jupyter console)\n",
      "  from tqdm.autonotebook import tqdm\n"
     ]
    }
   ],
   "source": [
    "from tqdm.autonotebook import tqdm\n",
    "import datetime\n",
    "import numpy as np\n",
    "import pandas as pd\n",
    "import matplotlib.pyplot as plt\n",
    "from matplotlib import cm\n",
    "from PIL import Image\n",
    "%matplotlib inline"
   ]
  },
  {
   "cell_type": "code",
   "execution_count": null,
   "metadata": {
    "ExecuteTime": {
     "end_time": "2021-07-06T15:20:21.950100Z",
     "start_time": "2021-07-06T15:20:17.173317Z"
    },
    "scrolled": true
   },
   "outputs": [],
   "source": [
    "temperature = pd.read_csv('GlobalLandTemperaturesByCity.csv')\n",
    "temperature"
   ]
  },
  {
   "cell_type": "code",
   "execution_count": null,
   "metadata": {
    "ExecuteTime": {
     "end_time": "2021-07-06T15:21:36.912641Z",
     "start_time": "2021-07-06T15:21:32.497316Z"
    },
    "scrolled": true
   },
   "outputs": [],
   "source": [
    "np.unique(temperature.Country)"
   ]
  },
  {
   "cell_type": "code",
   "execution_count": null,
   "metadata": {
    "ExecuteTime": {
     "end_time": "2021-07-06T15:22:21.142850Z",
     "start_time": "2021-07-06T15:22:20.633368Z"
    }
   },
   "outputs": [],
   "source": [
    "country = 'Russia'\n",
    "cities = np.unique(temperature[temperature.Country==country].City)"
   ]
  },
  {
   "cell_type": "code",
   "execution_count": null,
   "metadata": {
    "ExecuteTime": {
     "end_time": "2021-07-06T15:24:17.376587Z",
     "start_time": "2021-07-06T15:22:33.462337Z"
    },
    "scrolled": true
   },
   "outputs": [],
   "source": [
    "stemps=[]\n",
    "for cit in tqdm(cities):\n",
    "    stemps.append(len(temperature[(temperature.City==cit)&(temperature.Country==country)].dropna()))\n",
    "    print(cit, stemps[-1])"
   ]
  },
  {
   "cell_type": "code",
   "execution_count": null,
   "metadata": {
    "ExecuteTime": {
     "end_time": "2021-07-06T15:24:38.453711Z",
     "start_time": "2021-07-06T15:24:38.448701Z"
    }
   },
   "outputs": [],
   "source": [
    "max(stemps)"
   ]
  },
  {
   "cell_type": "code",
   "execution_count": null,
   "metadata": {
    "ExecuteTime": {
     "end_time": "2021-07-06T15:24:57.032857Z",
     "start_time": "2021-07-06T15:24:57.021710Z"
    }
   },
   "outputs": [],
   "source": [
    "city = 'Moscow'"
   ]
  },
  {
   "cell_type": "code",
   "execution_count": null,
   "metadata": {
    "ExecuteTime": {
     "end_time": "2021-07-06T15:25:19.618184Z",
     "start_time": "2021-07-06T15:25:19.275601Z"
    }
   },
   "outputs": [],
   "source": [
    "MosTem = temperature[temperature.City==city].dropna()\n",
    "MosTem[35:]"
   ]
  },
  {
   "cell_type": "code",
   "execution_count": null,
   "metadata": {
    "ExecuteTime": {
     "end_time": "2021-07-06T15:25:54.708464Z",
     "start_time": "2021-07-06T15:25:54.701490Z"
    }
   },
   "outputs": [],
   "source": [
    "t0 = datetime.datetime.strptime(np.array(MosTem.dt)[0], '%Y-%m-%d')"
   ]
  },
  {
   "cell_type": "code",
   "execution_count": null,
   "metadata": {
    "ExecuteTime": {
     "end_time": "2021-07-06T15:26:48.811594Z",
     "start_time": "2021-07-06T15:26:48.800853Z"
    }
   },
   "outputs": [],
   "source": [
    "def time(x):\n",
    "    return (datetime.datetime.strptime(x, '%Y-%m-%d') - t0).days"
   ]
  },
  {
   "cell_type": "code",
   "execution_count": null,
   "metadata": {
    "ExecuteTime": {
     "end_time": "2021-07-06T15:27:01.446176Z",
     "start_time": "2021-07-06T15:27:01.417174Z"
    }
   },
   "outputs": [],
   "source": [
    "date = np.array([time(x) for x in np.array(MosTem.dt)])"
   ]
  },
  {
   "cell_type": "code",
   "execution_count": null,
   "metadata": {
    "ExecuteTime": {
     "end_time": "2021-07-06T15:27:25.077996Z",
     "start_time": "2021-07-06T15:27:25.068455Z"
    }
   },
   "outputs": [],
   "source": [
    "temp = np.array(MosTem.AverageTemperature)"
   ]
  },
  {
   "cell_type": "code",
   "execution_count": null,
   "metadata": {
    "ExecuteTime": {
     "end_time": "2021-07-06T15:28:28.254774Z",
     "start_time": "2021-07-06T15:28:27.172579Z"
    }
   },
   "outputs": [],
   "source": [
    "m=1000\n",
    "n=100\n",
    "plt.figure(figsize=(10, 10), dpi=600, facecolor='w')\n",
    "plt.plot(range(n), temp[m:m+n], 'r')\n",
    "plt.plot(range(n), temp[m:m+n]+MosTem.AverageTemperatureUncertainty[m:m+n], 'b')\n",
    "plt.plot(range(n), temp[m:m+n]-MosTem.AverageTemperatureUncertainty[m:m+n], 'b')"
   ]
  },
  {
   "cell_type": "code",
   "execution_count": null,
   "metadata": {
    "ExecuteTime": {
     "end_time": "2021-07-06T15:29:31.794730Z",
     "start_time": "2021-07-06T15:28:54.403428Z"
    }
   },
   "outputs": [],
   "source": [
    "import tensorflow as tf\n",
    "from tensorflow.keras import backend as K\n",
    "from tensorflow.keras.models import Model, load_model, Sequential\n",
    "from tensorflow.keras.layers import LeakyReLU, Activation\n",
    "from tensorflow.keras.layers import Lambda, Dense, Input, concatenate\n",
    "from tensorflow.keras.layers import Dropout, Reshape, Flatten, LSTM, GRU, SimpleRNN\n",
    "from tensorflow.keras.preprocessing.sequence import TimeseriesGenerator"
   ]
  },
  {
   "cell_type": "code",
   "execution_count": null,
   "metadata": {
    "ExecuteTime": {
     "end_time": "2021-07-06T15:33:50.843798Z",
     "start_time": "2021-07-06T15:33:49.838793Z"
    }
   },
   "outputs": [],
   "source": [
    "gpu = tf.config.experimental.list_physical_devices('GPU')[0]\n",
    "tf.config.experimental.set_memory_growth(gpu, True)"
   ]
  },
  {
   "cell_type": "code",
   "execution_count": null,
   "metadata": {
    "ExecuteTime": {
     "end_time": "2021-07-06T15:34:08.110466Z",
     "start_time": "2021-07-06T15:34:08.106469Z"
    }
   },
   "outputs": [],
   "source": [
    "temp = temp.reshape((-1, 1))\n",
    "temp.shape"
   ]
  },
  {
   "cell_type": "code",
   "execution_count": null,
   "metadata": {
    "ExecuteTime": {
     "end_time": "2021-07-06T15:39:47.180237Z",
     "start_time": "2021-07-06T15:39:47.166115Z"
    }
   },
   "outputs": [],
   "source": [
    "def test(model, n, length, epochs, verbose=0):\n",
    "    gen = TimeseriesGenerator(temp[45:], temp[45:], length=length, shuffle=True, batch_size=1000)\n",
    "    hist = model.fit(gen, epochs=epochs, verbose=verbose)\n",
    "    if n:\n",
    "        pred = []\n",
    "        for i in range(n):\n",
    "            pred += list(model(np.array([list(temp[35:40])+pred])).numpy())\n",
    "        plt.plot(temp[35:40+n])\n",
    "        plt.plot(range(5, 5+n), pred)\n",
    "    return hist"
   ]
  },
  {
   "cell_type": "code",
   "execution_count": null,
   "metadata": {
    "ExecuteTime": {
     "end_time": "2021-07-06T16:13:55.337209Z",
     "start_time": "2021-07-06T16:11:33.106143Z"
    },
    "scrolled": true
   },
   "outputs": [],
   "source": [
    "inp = Input(shape=(None, 1))\n",
    "x = SimpleRNN(200, return_sequences=True)(inp)\n",
    "x = SimpleRNN(200)(x)\n",
    "out = Dense(1)(x)\n",
    "model = Model(inp, out)\n",
    "model.compile(loss='mse', optimizer=tf.keras.optimizers.Adam(beta_2=0.9))\n",
    "history = test(model, 120, 20, 1000, 1)"
   ]
  },
  {
   "cell_type": "code",
   "execution_count": null,
   "metadata": {
    "ExecuteTime": {
     "end_time": "2021-07-06T15:45:56.618156Z",
     "start_time": "2021-07-06T15:45:56.610793Z"
    }
   },
   "outputs": [],
   "source": [
    "model.summary()"
   ]
  },
  {
   "cell_type": "code",
   "execution_count": null,
   "metadata": {
    "ExecuteTime": {
     "end_time": "2021-07-06T16:14:33.452509Z",
     "start_time": "2021-07-06T16:14:33.021753Z"
    }
   },
   "outputs": [],
   "source": [
    "plt.figure(figsize=(10, 10), dpi=200, facecolor='w')\n",
    "print(min(history.history['loss']))\n",
    "plt.semilogy(history.history['loss'])"
   ]
  },
  {
   "cell_type": "code",
   "execution_count": null,
   "metadata": {
    "ExecuteTime": {
     "end_time": "2020-06-16T09:58:22.108393Z",
     "start_time": "2020-06-16T09:54:39.471177Z"
    },
    "scrolled": true
   },
   "outputs": [],
   "source": [
    "inp = Input(shape=(None, 1))\n",
    "x = LSTM(200)(inp)\n",
    "out = Dense(1)(x)\n",
    "model = Model(inp, out)\n",
    "model.compile(loss='mse', optimiser=tf.keras.optimizers.Adam(beta_2=0.99))\n",
    "test(model, 120, 16, 6000, 2)"
   ]
  },
  {
   "cell_type": "code",
   "execution_count": null,
   "metadata": {
    "ExecuteTime": {
     "end_time": "2020-06-16T14:14:07.724408Z",
     "start_time": "2020-06-16T14:09:53.472412Z"
    },
    "scrolled": true
   },
   "outputs": [],
   "source": [
    "inp = Input(shape=(None, 1))\n",
    "x = LSTM(10)(inp)\n",
    "out = Dense(1)(x)\n",
    "model = Model(inp, out)\n",
    "model.compile(loss='mse', optimiser=tf.keras.optimizers.Adam(beta_2=0.99))\n",
    "test(model, 120, 20, 9000, 2)"
   ]
  },
  {
   "cell_type": "code",
   "execution_count": null,
   "metadata": {
    "ExecuteTime": {
     "end_time": "2020-06-16T10:06:15.089281Z",
     "start_time": "2020-06-16T10:01:12.620867Z"
    },
    "scrolled": true
   },
   "outputs": [],
   "source": [
    "inp = Input(shape=(None, 1))\n",
    "x = LSTM(200)(inp)\n",
    "out = Dense(1)(x)\n",
    "model = Model(inp, out)\n",
    "model.compile(loss='mse', optimiser=tf.keras.optimizers.Adam(beta_2=0.99))\n",
    "test(model, 120, 8, 9000, 2)"
   ]
  },
  {
   "cell_type": "code",
   "execution_count": null,
   "metadata": {
    "ExecuteTime": {
     "end_time": "2020-06-16T11:14:30.015925Z",
     "start_time": "2020-06-16T11:10:29.584372Z"
    },
    "scrolled": true
   },
   "outputs": [],
   "source": [
    "inp = Input(shape=(None, 1))\n",
    "x = LSTM(10)(inp)\n",
    "out = Dense(1)(x)\n",
    "model = Model(inp, out)\n",
    "model.compile(loss='mse', optimiser=tf.keras.optimizers.Adam(beta_2=0.99))\n",
    "test(model, 120, 8, 9000, 2)"
   ]
  },
  {
   "cell_type": "code",
   "execution_count": null,
   "metadata": {
    "ExecuteTime": {
     "end_time": "2020-06-16T11:14:30.015925Z",
     "start_time": "2020-06-16T11:10:29.584372Z"
    },
    "scrolled": true
   },
   "outputs": [],
   "source": [
    "inp = Input(shape=(None, 1))\n",
    "x = LSTM(10)(inp)\n",
    "out = Dense(1)(x)\n",
    "model = Model(inp, out)\n",
    "model.compile(loss='mse', optimiser=tf.keras.optimizers.Adam(beta_2=0.99))\n",
    "test(model, 120, 16, 9000, 2)"
   ]
  },
  {
   "cell_type": "code",
   "execution_count": null,
   "metadata": {
    "ExecuteTime": {
     "end_time": "2020-06-16T11:19:36.199589Z",
     "start_time": "2020-06-16T11:14:30.119310Z"
    },
    "scrolled": true
   },
   "outputs": [],
   "source": [
    "inp = Input(shape=(None, 1))\n",
    "x = LSTM(100)(inp)\n",
    "out = Dense(1)(x)\n",
    "model = Model(inp, out)\n",
    "model.compile(loss='mse', optimiser=tf.keras.optimizers.Adam(beta_2=0.99))\n",
    "test(model, 120, 20, 9000, 2)"
   ]
  },
  {
   "cell_type": "code",
   "execution_count": null,
   "metadata": {
    "ExecuteTime": {
     "end_time": "2020-06-16T11:24:22.094459Z",
     "start_time": "2020-06-16T11:19:36.302314Z"
    },
    "scrolled": true
   },
   "outputs": [],
   "source": [
    "inp = Input(shape=(None, 1))\n",
    "x = LSTM(100)(inp)\n",
    "out = Dense(1)(x)\n",
    "model = Model(inp, out)\n",
    "model.compile(loss='mse', optimiser=tf.keras.optimizers.Adam(beta_2=0.99))\n",
    "test(model, 120, 16, 9000, 2)"
   ]
  },
  {
   "cell_type": "code",
   "execution_count": null,
   "metadata": {
    "ExecuteTime": {
     "end_time": "2020-06-16T11:28:17.410829Z",
     "start_time": "2020-06-16T11:24:22.202731Z"
    },
    "scrolled": true
   },
   "outputs": [],
   "source": [
    "inp = Input(shape=(None, 1))\n",
    "x = LSTM(100)(inp)\n",
    "out = Dense(1)(x)\n",
    "model = Model(inp, out)\n",
    "model.compile(loss='mse', optimiser=tf.keras.optimizers.Adam(beta_2=0.99))\n",
    "test(model, 120, 8, 9000, 2)"
   ]
  },
  {
   "cell_type": "code",
   "execution_count": null,
   "metadata": {},
   "outputs": [],
   "source": [
    "LSTM(200, return_sequences=True)"
   ]
  }
 ],
 "metadata": {
  "kernelspec": {
   "display_name": "Python 3",
   "language": "python",
   "name": "python3"
  },
  "language_info": {
   "codemirror_mode": {
    "name": "ipython",
    "version": 3
   },
   "file_extension": ".py",
   "mimetype": "text/x-python",
   "name": "python",
   "nbconvert_exporter": "python",
   "pygments_lexer": "ipython3",
   "version": "3.8.5"
  },
  "latex_envs": {
   "LaTeX_envs_menu_present": true,
   "autoclose": true,
   "autocomplete": false,
   "bibliofile": "biblio.bib",
   "cite_by": "apalike",
   "current_citInitial": 1,
   "eqLabelWithNumbers": true,
   "eqNumInitial": 1,
   "hotkeys": {
    "equation": "Ctrl-E",
    "itemize": "Ctrl-I"
   },
   "labels_anchors": false,
   "latex_user_defs": false,
   "report_style_numbering": true,
   "user_envs_cfg": false
  },
  "varInspector": {
   "cols": {
    "lenName": 16,
    "lenType": 16,
    "lenVar": 40
   },
   "kernels_config": {
    "python": {
     "delete_cmd_postfix": "",
     "delete_cmd_prefix": "del ",
     "library": "var_list.py",
     "varRefreshCmd": "print(var_dic_list())"
    },
    "r": {
     "delete_cmd_postfix": ") ",
     "delete_cmd_prefix": "rm(",
     "library": "var_list.r",
     "varRefreshCmd": "cat(var_dic_list()) "
    }
   },
   "types_to_exclude": [
    "module",
    "function",
    "builtin_function_or_method",
    "instance",
    "_Feature"
   ],
   "window_display": false
  }
 },
 "nbformat": 4,
 "nbformat_minor": 2
}
