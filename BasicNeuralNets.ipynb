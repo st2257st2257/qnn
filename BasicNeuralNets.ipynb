{
 "cells": [
  {
   "cell_type": "code",
   "execution_count": 2,
   "metadata": {
    "ExecuteTime": {
     "end_time": "2021-07-05T12:40:44.022544Z",
     "start_time": "2021-07-05T12:39:50.756240Z"
    },
    "scrolled": true
   },
   "outputs": [],
   "source": [
    "import tensorflow as tf\n",
    "from tensorflow.keras.layers import Input, Dense, Conv2D, MaxPooling2D\n",
    "from tensorflow.keras.layers import Dropout\n",
    "from tensorflow.keras.layers import Flatten\n",
    "from tensorflow.keras.models import Model\n",
    "from tensorflow.keras.utils import to_categorical\n",
    "from tensorflow.keras.datasets import mnist\n",
    "import numpy as np\n",
    "import matplotlib.pyplot as plt\n",
    "%matplotlib inline"
   ]
  },
  {
   "cell_type": "code",
   "execution_count": 3,
   "metadata": {
    "ExecuteTime": {
     "end_time": "2021-07-05T12:40:46.543014Z",
     "start_time": "2021-07-05T12:40:46.532015Z"
    }
   },
   "outputs": [
    {
     "data": {
      "text/plain": [
       "'2.7.0'"
      ]
     },
     "execution_count": 3,
     "metadata": {},
     "output_type": "execute_result"
    }
   ],
   "source": [
    "tf.__version__"
   ]
  },
  {
   "cell_type": "code",
   "execution_count": 5,
   "metadata": {
    "ExecuteTime": {
     "end_time": "2021-07-05T12:40:50.071087Z",
     "start_time": "2021-07-05T12:40:49.054006Z"
    }
   },
   "outputs": [],
   "source": [
    "#gpu = tf.config.list_physical_devices('GPU')[0]\n",
    "#tf.config.experimental.set_memory_growth(gpu, True)"
   ]
  },
  {
   "cell_type": "code",
   "execution_count": 6,
   "metadata": {
    "ExecuteTime": {
     "end_time": "2021-07-05T12:40:51.241949Z",
     "start_time": "2021-07-05T12:40:50.964951Z"
    }
   },
   "outputs": [
    {
     "name": "stdout",
     "output_type": "stream",
     "text": [
      "Downloading data from https://storage.googleapis.com/tensorflow/tf-keras-datasets/mnist.npz\n",
      "11493376/11490434 [==============================] - 8s 1us/step\n",
      "11501568/11490434 [==============================] - 8s 1us/step\n"
     ]
    },
    {
     "data": {
      "text/plain": [
       "array([5, 0, 4, ..., 5, 6, 8], dtype=uint8)"
      ]
     },
     "execution_count": 6,
     "metadata": {},
     "output_type": "execute_result"
    }
   ],
   "source": [
    "(X_train, y_train), (X_test, y_test) = mnist.load_data()\n",
    "y_train"
   ]
  },
  {
   "cell_type": "code",
   "execution_count": 7,
   "metadata": {
    "ExecuteTime": {
     "end_time": "2021-07-05T12:40:52.586784Z",
     "start_time": "2021-07-05T12:40:52.572813Z"
    }
   },
   "outputs": [
    {
     "data": {
      "text/plain": [
       "(60000, 28, 28)"
      ]
     },
     "execution_count": 7,
     "metadata": {},
     "output_type": "execute_result"
    }
   ],
   "source": [
    "X_train.shape"
   ]
  },
  {
   "cell_type": "code",
   "execution_count": 8,
   "metadata": {
    "ExecuteTime": {
     "end_time": "2021-07-05T12:40:53.363813Z",
     "start_time": "2021-07-05T12:40:53.355785Z"
    }
   },
   "outputs": [],
   "source": [
    "num_pixels = X_train.shape[1] * X_train.shape[2]"
   ]
  },
  {
   "cell_type": "code",
   "execution_count": 9,
   "metadata": {
    "ExecuteTime": {
     "end_time": "2021-07-05T12:40:55.453709Z",
     "start_time": "2021-07-05T12:40:55.348640Z"
    }
   },
   "outputs": [],
   "source": [
    "X_train = X_train.astype('float32') / 255.\n",
    "X_test = X_test.astype('float32') / 255."
   ]
  },
  {
   "cell_type": "code",
   "execution_count": 10,
   "metadata": {
    "ExecuteTime": {
     "end_time": "2021-07-05T12:40:57.254969Z",
     "start_time": "2021-07-05T12:40:56.852931Z"
    }
   },
   "outputs": [
    {
     "data": {
      "text/plain": [
       "<matplotlib.image.AxesImage at 0x1e50601f790>"
      ]
     },
     "execution_count": 10,
     "metadata": {},
     "output_type": "execute_result"
    },
    {
     "data": {
      "image/png": "[encoded data removed]",
      "text/plain": [
       "<Figure size 432x288 with 1 Axes>"
      ]
     },
     "metadata": {
      "needs_background": "light"
     },
     "output_type": "display_data"
    }
   ],
   "source": [
    "plt.imshow(X_test[0].reshape(28, 28))"
   ]
  },
  {
   "cell_type": "code",
   "execution_count": 11,
   "metadata": {
    "ExecuteTime": {
     "end_time": "2021-07-05T12:41:00.231341Z",
     "start_time": "2021-07-05T12:41:00.220313Z"
    }
   },
   "outputs": [
    {
     "data": {
      "text/plain": [
       "7"
      ]
     },
     "execution_count": 11,
     "metadata": {},
     "output_type": "execute_result"
    }
   ],
   "source": [
    "y_test[0]"
   ]
  },
  {
   "cell_type": "code",
   "execution_count": 12,
   "metadata": {
    "ExecuteTime": {
     "end_time": "2021-07-05T12:41:04.198035Z",
     "start_time": "2021-07-05T12:41:04.188035Z"
    }
   },
   "outputs": [],
   "source": [
    "y_train = to_categorical(y_train)\n",
    "y_test = to_categorical(y_test)\n",
    "num_classes = y_test.shape[1]"
   ]
  },
  {
   "cell_type": "code",
   "execution_count": 13,
   "metadata": {
    "ExecuteTime": {
     "end_time": "2021-07-05T12:41:04.837532Z",
     "start_time": "2021-07-05T12:41:04.828024Z"
    }
   },
   "outputs": [
    {
     "data": {
      "text/plain": [
       "array([[0., 0., 0., 0., 0., 0., 0., 1., 0., 0.],\n",
       "       [0., 0., 1., 0., 0., 0., 0., 0., 0., 0.],\n",
       "       [0., 1., 0., 0., 0., 0., 0., 0., 0., 0.],\n",
       "       [1., 0., 0., 0., 0., 0., 0., 0., 0., 0.],\n",
       "       [0., 0., 0., 0., 1., 0., 0., 0., 0., 0.],\n",
       "       [0., 1., 0., 0., 0., 0., 0., 0., 0., 0.],\n",
       "       [0., 0., 0., 0., 1., 0., 0., 0., 0., 0.],\n",
       "       [0., 0., 0., 0., 0., 0., 0., 0., 0., 1.],\n",
       "       [0., 0., 0., 0., 0., 1., 0., 0., 0., 0.],\n",
       "       [0., 0., 0., 0., 0., 0., 0., 0., 0., 1.]], dtype=float32)"
      ]
     },
     "execution_count": 13,
     "metadata": {},
     "output_type": "execute_result"
    }
   ],
   "source": [
    "y_test[:10]"
   ]
  },
  {
   "cell_type": "markdown",
   "metadata": {},
   "source": [
    "# Dense"
   ]
  },
  {
   "cell_type": "code",
   "execution_count": 14,
   "metadata": {
    "ExecuteTime": {
     "end_time": "2021-07-05T12:41:31.480074Z",
     "start_time": "2021-07-05T12:41:31.469043Z"
    }
   },
   "outputs": [],
   "source": [
    "X_train = np.reshape(X_train, (len(X_train), num_pixels))\n",
    "X_test = np.reshape(X_test, (len(X_test), num_pixels))"
   ]
  },
  {
   "cell_type": "code",
   "execution_count": 15,
   "metadata": {
    "ExecuteTime": {
     "end_time": "2021-07-05T12:41:32.708314Z",
     "start_time": "2021-07-05T12:41:32.701285Z"
    }
   },
   "outputs": [
    {
     "data": {
      "text/plain": [
       "(10000, 784)"
      ]
     },
     "execution_count": 15,
     "metadata": {},
     "output_type": "execute_result"
    }
   ],
   "source": [
    "X_test.shape"
   ]
  },
  {
   "cell_type": "code",
   "execution_count": 16,
   "metadata": {
    "ExecuteTime": {
     "end_time": "2021-07-05T12:41:33.698335Z",
     "start_time": "2021-07-05T12:41:33.204543Z"
    }
   },
   "outputs": [],
   "source": [
    "input_img = Input((num_pixels, ))\n",
    "end = Dense(num_classes, activation='softmax')(input_img)\n",
    "\n",
    "model = Model(input_img, end)\n",
    "model.compile(optimizer='adam',\n",
    "              loss='categorical_crossentropy',\n",
    "              metrics=['accuracy'])"
   ]
  },
  {
   "cell_type": "code",
   "execution_count": 17,
   "metadata": {
    "ExecuteTime": {
     "end_time": "2021-07-05T12:41:35.675342Z",
     "start_time": "2021-07-05T12:41:34.941332Z"
    }
   },
   "outputs": [
    {
     "data": {
      "text/plain": [
       "array([0.19673218, 0.06557614, 0.04164413, 0.1398167 , 0.04512599,\n",
       "       0.1031426 , 0.13426435, 0.10113611, 0.10828964, 0.06427225],\n",
       "      dtype=float32)"
      ]
     },
     "execution_count": 17,
     "metadata": {},
     "output_type": "execute_result"
    }
   ],
   "source": [
    "model.predict(X_test)[0]"
   ]
  },
  {
   "cell_type": "code",
   "execution_count": 18,
   "metadata": {
    "ExecuteTime": {
     "end_time": "2021-07-05T12:41:58.349828Z",
     "start_time": "2021-07-05T12:41:44.628560Z"
    },
    "run_control": {
     "marked": false
    },
    "scrolled": true
   },
   "outputs": [
    {
     "name": "stdout",
     "output_type": "stream",
     "text": [
      "Epoch 1/50\n",
      "59/59 [==============================] - 1s 6ms/step - loss: 1.5010 - accuracy: 0.5989 - val_loss: 0.9225 - val_accuracy: 0.8098\n",
      "Epoch 2/50\n",
      "59/59 [==============================] - 0s 4ms/step - loss: 0.7677 - accuracy: 0.8321 - val_loss: 0.6211 - val_accuracy: 0.8620\n",
      "Epoch 3/50\n",
      "59/59 [==============================] - 0s 4ms/step - loss: 0.5805 - accuracy: 0.8639 - val_loss: 0.5082 - val_accuracy: 0.8798\n",
      "Epoch 4/50\n",
      "59/59 [==============================] - 0s 4ms/step - loss: 0.4955 - accuracy: 0.8795 - val_loss: 0.4474 - val_accuracy: 0.8917\n",
      "Epoch 5/50\n",
      "59/59 [==============================] - 0s 4ms/step - loss: 0.4457 - accuracy: 0.8877 - val_loss: 0.4091 - val_accuracy: 0.8980\n",
      "Epoch 6/50\n",
      "59/59 [==============================] - 0s 4ms/step - loss: 0.4129 - accuracy: 0.8938 - val_loss: 0.3833 - val_accuracy: 0.9045\n",
      "Epoch 7/50\n",
      "59/59 [==============================] - 0s 3ms/step - loss: 0.3892 - accuracy: 0.8988 - val_loss: 0.3644 - val_accuracy: 0.9063\n",
      "Epoch 8/50\n",
      "59/59 [==============================] - 0s 4ms/step - loss: 0.3716 - accuracy: 0.9025 - val_loss: 0.3497 - val_accuracy: 0.9087\n",
      "Epoch 9/50\n",
      "59/59 [==============================] - 0s 4ms/step - loss: 0.3574 - accuracy: 0.9055 - val_loss: 0.3383 - val_accuracy: 0.9112\n",
      "Epoch 10/50\n",
      "59/59 [==============================] - 0s 4ms/step - loss: 0.3462 - accuracy: 0.9080 - val_loss: 0.3294 - val_accuracy: 0.9124\n",
      "Epoch 11/50\n",
      "59/59 [==============================] - 0s 4ms/step - loss: 0.3369 - accuracy: 0.9098 - val_loss: 0.3216 - val_accuracy: 0.9133\n",
      "Epoch 12/50\n",
      "59/59 [==============================] - 0s 4ms/step - loss: 0.3288 - accuracy: 0.9113 - val_loss: 0.3156 - val_accuracy: 0.9134\n",
      "Epoch 13/50\n",
      "59/59 [==============================] - 0s 4ms/step - loss: 0.3220 - accuracy: 0.9130 - val_loss: 0.3101 - val_accuracy: 0.9159\n",
      "Epoch 14/50\n",
      "59/59 [==============================] - 0s 4ms/step - loss: 0.3160 - accuracy: 0.9141 - val_loss: 0.3055 - val_accuracy: 0.9157\n",
      "Epoch 15/50\n",
      "59/59 [==============================] - 0s 4ms/step - loss: 0.3109 - accuracy: 0.9155 - val_loss: 0.3009 - val_accuracy: 0.9164\n",
      "Epoch 16/50\n",
      "59/59 [==============================] - 0s 4ms/step - loss: 0.3063 - accuracy: 0.9170 - val_loss: 0.2977 - val_accuracy: 0.9175\n",
      "Epoch 17/50\n",
      "59/59 [==============================] - 0s 4ms/step - loss: 0.3020 - accuracy: 0.9179 - val_loss: 0.2949 - val_accuracy: 0.9192\n",
      "Epoch 18/50\n",
      "59/59 [==============================] - 0s 4ms/step - loss: 0.2985 - accuracy: 0.9186 - val_loss: 0.2930 - val_accuracy: 0.9188\n",
      "Epoch 19/50\n",
      "59/59 [==============================] - 0s 4ms/step - loss: 0.2952 - accuracy: 0.9191 - val_loss: 0.2893 - val_accuracy: 0.9206\n",
      "Epoch 20/50\n",
      "59/59 [==============================] - 0s 4ms/step - loss: 0.2919 - accuracy: 0.9201 - val_loss: 0.2872 - val_accuracy: 0.9204\n",
      "Epoch 21/50\n",
      "59/59 [==============================] - 0s 4ms/step - loss: 0.2893 - accuracy: 0.9208 - val_loss: 0.2848 - val_accuracy: 0.9220\n",
      "Epoch 22/50\n",
      "59/59 [==============================] - 0s 4ms/step - loss: 0.2866 - accuracy: 0.9215 - val_loss: 0.2839 - val_accuracy: 0.9225\n",
      "Epoch 23/50\n",
      "59/59 [==============================] - 0s 4ms/step - loss: 0.2842 - accuracy: 0.9224 - val_loss: 0.2816 - val_accuracy: 0.9227\n",
      "Epoch 24/50\n",
      "59/59 [==============================] - 0s 4ms/step - loss: 0.2821 - accuracy: 0.9225 - val_loss: 0.2797 - val_accuracy: 0.9225\n",
      "Epoch 25/50\n",
      "59/59 [==============================] - 0s 4ms/step - loss: 0.2801 - accuracy: 0.9230 - val_loss: 0.2789 - val_accuracy: 0.9215\n",
      "Epoch 26/50\n",
      "59/59 [==============================] - 0s 4ms/step - loss: 0.2782 - accuracy: 0.9238 - val_loss: 0.2770 - val_accuracy: 0.9229\n",
      "Epoch 27/50\n",
      "59/59 [==============================] - 0s 4ms/step - loss: 0.2763 - accuracy: 0.9239 - val_loss: 0.2768 - val_accuracy: 0.9241\n",
      "Epoch 28/50\n",
      "59/59 [==============================] - 0s 4ms/step - loss: 0.2746 - accuracy: 0.9243 - val_loss: 0.2749 - val_accuracy: 0.9242\n",
      "Epoch 29/50\n",
      "59/59 [==============================] - 0s 4ms/step - loss: 0.2731 - accuracy: 0.9252 - val_loss: 0.2742 - val_accuracy: 0.9245\n",
      "Epoch 30/50\n",
      "59/59 [==============================] - 0s 4ms/step - loss: 0.2714 - accuracy: 0.9256 - val_loss: 0.2736 - val_accuracy: 0.9237\n",
      "Epoch 31/50\n",
      "59/59 [==============================] - 0s 4ms/step - loss: 0.2701 - accuracy: 0.9259 - val_loss: 0.2726 - val_accuracy: 0.9245\n",
      "Epoch 32/50\n",
      "59/59 [==============================] - 0s 4ms/step - loss: 0.2686 - accuracy: 0.9261 - val_loss: 0.2710 - val_accuracy: 0.9246\n",
      "Epoch 33/50\n",
      "59/59 [==============================] - 0s 4ms/step - loss: 0.2676 - accuracy: 0.9265 - val_loss: 0.2712 - val_accuracy: 0.9250\n",
      "Epoch 34/50\n",
      "59/59 [==============================] - 0s 4ms/step - loss: 0.2664 - accuracy: 0.9268 - val_loss: 0.2700 - val_accuracy: 0.9254\n",
      "Epoch 35/50\n",
      "59/59 [==============================] - 0s 4ms/step - loss: 0.2651 - accuracy: 0.9273 - val_loss: 0.2697 - val_accuracy: 0.9254\n",
      "Epoch 36/50\n",
      "59/59 [==============================] - 0s 4ms/step - loss: 0.2640 - accuracy: 0.9274 - val_loss: 0.2685 - val_accuracy: 0.9259\n",
      "Epoch 37/50\n",
      "59/59 [==============================] - 0s 4ms/step - loss: 0.2631 - accuracy: 0.9270 - val_loss: 0.2683 - val_accuracy: 0.9254\n",
      "Epoch 38/50\n",
      "59/59 [==============================] - 0s 4ms/step - loss: 0.2620 - accuracy: 0.9278 - val_loss: 0.2679 - val_accuracy: 0.9262\n",
      "Epoch 39/50\n",
      "59/59 [==============================] - 0s 4ms/step - loss: 0.2611 - accuracy: 0.9280 - val_loss: 0.2677 - val_accuracy: 0.9253\n",
      "Epoch 40/50\n",
      "59/59 [==============================] - 0s 4ms/step - loss: 0.2602 - accuracy: 0.9278 - val_loss: 0.2684 - val_accuracy: 0.9264\n",
      "Epoch 41/50\n",
      "59/59 [==============================] - 0s 4ms/step - loss: 0.2593 - accuracy: 0.9283 - val_loss: 0.2665 - val_accuracy: 0.9264\n",
      "Epoch 42/50\n",
      "59/59 [==============================] - 0s 3ms/step - loss: 0.2585 - accuracy: 0.9288 - val_loss: 0.2673 - val_accuracy: 0.9257\n",
      "Epoch 43/50\n",
      "59/59 [==============================] - 0s 4ms/step - loss: 0.2576 - accuracy: 0.9294 - val_loss: 0.2653 - val_accuracy: 0.9266\n",
      "Epoch 44/50\n",
      "59/59 [==============================] - 0s 4ms/step - loss: 0.2569 - accuracy: 0.9290 - val_loss: 0.2661 - val_accuracy: 0.9267\n",
      "Epoch 45/50\n",
      "59/59 [==============================] - 0s 4ms/step - loss: 0.2562 - accuracy: 0.9293 - val_loss: 0.2654 - val_accuracy: 0.9268\n",
      "Epoch 46/50\n",
      "59/59 [==============================] - 0s 4ms/step - loss: 0.2553 - accuracy: 0.9294 - val_loss: 0.2652 - val_accuracy: 0.9263\n",
      "Epoch 47/50\n",
      "59/59 [==============================] - 0s 4ms/step - loss: 0.2547 - accuracy: 0.9297 - val_loss: 0.2652 - val_accuracy: 0.9265\n",
      "Epoch 48/50\n",
      "59/59 [==============================] - 0s 4ms/step - loss: 0.2540 - accuracy: 0.9301 - val_loss: 0.2647 - val_accuracy: 0.9271\n",
      "Epoch 49/50\n",
      "59/59 [==============================] - 0s 4ms/step - loss: 0.2534 - accuracy: 0.9299 - val_loss: 0.2644 - val_accuracy: 0.9272\n",
      "Epoch 50/50\n",
      "59/59 [==============================] - 0s 4ms/step - loss: 0.2528 - accuracy: 0.9304 - val_loss: 0.2644 - val_accuracy: 0.9277\n"
     ]
    }
   ],
   "source": [
    "history = model.fit(X_train,\n",
    "                      y_train,\n",
    "                      epochs=50,\n",
    "                      batch_size=1024,\n",
    "                      shuffle=True,\n",
    "                      validation_data=(X_test, y_test),\n",
    "                      verbose=1)"
   ]
  },
  {
   "cell_type": "code",
   "execution_count": 19,
   "metadata": {
    "ExecuteTime": {
     "end_time": "2021-07-05T12:42:00.020161Z",
     "start_time": "2021-07-05T12:41:59.844187Z"
    }
   },
   "outputs": [
    {
     "data": {
      "text/plain": [
       "array([1.9973972e-05, 5.8035560e-10, 2.9921381e-05, 5.9850928e-03,\n",
       "       6.9296675e-07, 2.7318893e-05, 4.5332071e-09, 9.9355078e-01,\n",
       "       2.6830896e-05, 3.5936368e-04], dtype=float32)"
      ]
     },
     "execution_count": 19,
     "metadata": {},
     "output_type": "execute_result"
    }
   ],
   "source": [
    "model.predict(X_test)[0]"
   ]
  },
  {
   "cell_type": "code",
   "execution_count": 20,
   "metadata": {
    "ExecuteTime": {
     "end_time": "2021-07-05T12:42:26.841633Z",
     "start_time": "2021-07-05T12:42:26.636594Z"
    }
   },
   "outputs": [
    {
     "data": {
      "image/png": "[encoded data removed]",
      "text/plain": [
       "<Figure size 3000x1500 with 1 Axes>"
      ]
     },
     "metadata": {
      "needs_background": "light"
     },
     "output_type": "display_data"
    }
   ],
   "source": [
    "plt.figure(figsize=(10, 5), dpi=300)\n",
    "plt.plot(history.history['accuracy'])\n",
    "plt.plot(history.history['val_accuracy'])\n",
    "plt.grid()"
   ]
  },
  {
   "cell_type": "code",
   "execution_count": 21,
   "metadata": {
    "ExecuteTime": {
     "end_time": "2021-07-05T12:42:49.716030Z",
     "start_time": "2021-07-05T12:42:49.514996Z"
    }
   },
   "outputs": [
    {
     "name": "stdout",
     "output_type": "stream",
     "text": [
      "Model: \"model\"\n",
      "_________________________________________________________________\n",
      " Layer (type)                Output Shape              Param #   \n",
      "=================================================================\n",
      " input_1 (InputLayer)        [(None, 784)]             0         \n",
      "                                                                 \n",
      " dense (Dense)               (None, 10)                7850      \n",
      "                                                                 \n",
      "=================================================================\n",
      "Total params: 7,850\n",
      "Trainable params: 7,850\n",
      "Non-trainable params: 0\n",
      "_________________________________________________________________\n"
     ]
    },
    {
     "data": {
      "image/png": "[encoded data removed]",
      "text/plain": [
       "<Figure size 3000x1500 with 1 Axes>"
      ]
     },
     "metadata": {
      "needs_background": "light"
     },
     "output_type": "display_data"
    }
   ],
   "source": [
    "plt.figure(figsize=(10, 5), dpi=300)\n",
    "plt.plot(history.history['loss'])\n",
    "plt.plot(history.history['val_loss'])\n",
    "plt.grid()\n",
    "model.summary()"
   ]
  },
  {
   "cell_type": "code",
   "execution_count": 40,
   "metadata": {},
   "outputs": [],
   "source": [
    "import torch\n",
    "from torch.autograd import Function\n",
    "from torchvision import datasets, transforms\n",
    "import torch.optim as optim\n",
    "import torch.nn as nn\n",
    "import torch.nn.functional as F\n",
    "\n",
    "import qiskit\n",
    "from qiskit import transpile, assemble\n",
    "from qiskit.visualization import *\n",
    "\n",
    "class QuantumCircuit:\n",
    "    \"\"\" \n",
    "    This class provides a simple interface for interaction \n",
    "    with the quantum circuit \n",
    "    \"\"\"\n",
    "    \n",
    "    def __init__(self, n_qubits, backend, shots):\n",
    "        # --- Circuit definition ---\n",
    "        self._circuit = qiskit.QuantumCircuit(n_qubits)\n",
    "        \n",
    "        all_qubits = [i for i in range(n_qubits)]\n",
    "        self.theta = qiskit.circuit.Parameter('theta')\n",
    "        \n",
    "        self._circuit.h(all_qubits)\n",
    "        self._circuit.barrier()\n",
    "        self._circuit.ry(self.theta, all_qubits)\n",
    "        \n",
    "        self._circuit.measure_all()\n",
    "        # ---------------------------\n",
    "\n",
    "        self.backend = backend\n",
    "        self.shots = shots\n",
    "    \n",
    "    def run(self, thetas):\n",
    "        t_qc = transpile(self._circuit,\n",
    "                         self.backend)\n",
    "        qobj = assemble(t_qc,\n",
    "                        shots=self.shots,\n",
    "                        parameter_binds = [{self.theta: theta} for theta in thetas])\n",
    "        job = self.backend.run(qobj)\n",
    "        result = job.result().get_counts()\n",
    "        \n",
    "        counts = np.array(list(result.values()))\n",
    "        states = np.array(list(result.keys())).astype(float)\n",
    "        \n",
    "        # Compute probabilities for each state\n",
    "        probabilities = counts / self.shots\n",
    "        # Get state expectation\n",
    "        expectation = np.sum(states * probabilities)\n",
    "        \n",
    "        return np.array([expectation])\n",
    "    \n",
    "class HybridFunction(Function):\n",
    "    \"\"\" Hybrid quantum - classical function definition \"\"\"\n",
    "    \n",
    "    @staticmethod\n",
    "    def forward(ctx, input, quantum_circuit, shift):\n",
    "        \"\"\" Forward pass computation \"\"\"\n",
    "        ctx.shift = shift\n",
    "        ctx.quantum_circuit = quantum_circuit\n",
    "\n",
    "        expectation_z = ctx.quantum_circuit.run(input[0].tolist())\n",
    "        result = torch.tensor([expectation_z])\n",
    "        ctx.save_for_backward(input, result)\n",
    "\n",
    "        return result\n",
    "        \n",
    "    @staticmethod\n",
    "    def backward(ctx, grad_output):\n",
    "        \"\"\" Backward pass computation \"\"\"\n",
    "        input, expectation_z = ctx.saved_tensors\n",
    "        input_list = np.array(input.tolist())\n",
    "        \n",
    "        shift_right = input_list + np.ones(input_list.shape) * ctx.shift\n",
    "        shift_left = input_list - np.ones(input_list.shape) * ctx.shift\n",
    "        \n",
    "        gradients = []\n",
    "        for i in range(len(input_list)):\n",
    "            expectation_right = ctx.quantum_circuit.run(shift_right[i])\n",
    "            expectation_left  = ctx.quantum_circuit.run(shift_left[i])\n",
    "            \n",
    "            gradient = torch.tensor([expectation_right]) - torch.tensor([expectation_left])\n",
    "            gradients.append(gradient)\n",
    "        gradients = np.array([gradients]).T\n",
    "        return torch.tensor([gradients]).float() * grad_output.float(), None, None\n",
    "\n",
    "class Hybrid(nn.Module):\n",
    "    \"\"\" Hybrid quantum - classical layer definition \"\"\"\n",
    "    \n",
    "    def __init__(self, backend, shots, shift):\n",
    "        super(Hybrid, self).__init__()\n",
    "        self.quantum_circuit = QuantumCircuit(1, backend, shots)\n",
    "        self.shift = shift\n",
    "        \n",
    "    def forward(self, input):\n",
    "        return HybridFunction.apply(input, self.quantum_circuit, self.shift)"
   ]
  },
  {
   "cell_type": "code",
   "execution_count": 41,
   "metadata": {},
   "outputs": [],
   "source": [
    "from keras.layers import Layer\n",
    "\n",
    "class custom_layer(Layer):\n",
    "  #  инициализируется переменная класса и переменная суперкласса\n",
    "  def  __init__(self,output_dim, backend, shots, shift, **kwargs):\n",
    "    super(custom_layer, self).__init__(**kwargs)\n",
    "    self.output_dim = output_dim\n",
    "    self.quantum_circuit = QuantumCircuit(1, backend, shots)\n",
    "    self.shift = shift\n",
    "    \n",
    "  def build(self,input_shape):\n",
    "    # определяются веса\n",
    "    self.W=self.add_weight(name=\"kernel\",\n",
    "                           shape=(input_shape[1],\n",
    "                           self.output_dim),\n",
    "                           initializer=\"uniform\",\n",
    "                           trainable=True)\n",
    "    self.built = True\n",
    "    \n",
    "  def forward(self, input):\n",
    "    return HybridFunction.apply(input, self.quantum_circuit, self.shift)\n",
    "    \n",
    "  def call(self,x):\n",
    "    # определяется алгоритм вычислений. В качестве аргумента принимается тензор\n",
    "    return backend.dot(x,self.W)\n",
    "\n",
    "  def compute_output_shape(self,input_shape):\n",
    "    # определяется форма вывода слоя\n",
    "    return (input_shape[0], self.output_dim)"
   ]
  },
  {
   "cell_type": "code",
   "execution_count": null,
   "metadata": {},
   "outputs": [],
   "source": []
  },
  {
   "cell_type": "code",
   "execution_count": null,
   "metadata": {},
   "outputs": [],
   "source": []
  },
  {
   "cell_type": "code",
   "execution_count": 59,
   "metadata": {
    "ExecuteTime": {
     "end_time": "2021-07-05T12:47:31.652729Z",
     "start_time": "2021-07-05T12:47:31.626149Z"
    }
   },
   "outputs": [],
   "source": [
    "input_img = Input((num_pixels, ))\n",
    "x = Dense(100, activation='relu')(input_img)\n",
    "# инйиализируем кстомный слой параметрами которые на нужны\n",
    "#mu_l = custom_layer(100,                                     # output_dim\n",
    "#                    qiskit.Aer.get_backend('aer_simulator'), # backend\n",
    "#                    100,                                     # shots\n",
    "#                    np.pi/2)(x)                              # shift\n",
    "\n",
    "end = Dense(num_classes, \n",
    "            activation = 'softmax',\n",
    "            kernel_regularizer   = tf.keras.regularizers.L1(0.01),\n",
    "            activity_regularizer = tf.keras.regularizers.L2(0.01))(x)\n",
    "\n",
    "model = Model(input_img, end)\n",
    "model.compile(optimizer='adam',\n",
    "              loss='categorical_crossentropy',\n",
    "              metrics=['accuracy'])"
   ]
  },
  {
   "cell_type": "code",
   "execution_count": 60,
   "metadata": {
    "ExecuteTime": {
     "end_time": "2021-07-05T12:48:32.275517Z",
     "start_time": "2021-07-05T12:47:32.501285Z"
    },
    "run_control": {
     "marked": false
    },
    "scrolled": true
   },
   "outputs": [
    {
     "name": "stdout",
     "output_type": "stream",
     "text": [
      "Epoch 1/50\n",
      "59/59 [==============================] - 1s 9ms/step - loss: 1.9369 - accuracy: 0.7741 - val_loss: 1.3123 - val_accuracy: 0.8957\n",
      "Epoch 2/50\n",
      "59/59 [==============================] - 0s 7ms/step - loss: 1.1494 - accuracy: 0.8962 - val_loss: 0.9812 - val_accuracy: 0.9111\n",
      "Epoch 3/50\n",
      "59/59 [==============================] - 0s 7ms/step - loss: 0.8984 - accuracy: 0.9061 - val_loss: 0.7957 - val_accuracy: 0.9136\n",
      "Epoch 4/50\n",
      "59/59 [==============================] - 0s 7ms/step - loss: 0.7502 - accuracy: 0.9107 - val_loss: 0.6828 - val_accuracy: 0.9175\n",
      "Epoch 5/50\n",
      "59/59 [==============================] - 0s 7ms/step - loss: 0.6570 - accuracy: 0.9139 - val_loss: 0.6078 - val_accuracy: 0.9187\n",
      "Epoch 6/50\n",
      "59/59 [==============================] - 0s 7ms/step - loss: 0.5913 - accuracy: 0.9172 - val_loss: 0.5540 - val_accuracy: 0.9209\n",
      "Epoch 7/50\n",
      "59/59 [==============================] - 0s 7ms/step - loss: 0.5433 - accuracy: 0.9207 - val_loss: 0.5133 - val_accuracy: 0.9233\n",
      "Epoch 8/50\n",
      "59/59 [==============================] - 0s 7ms/step - loss: 0.5066 - accuracy: 0.9234 - val_loss: 0.4830 - val_accuracy: 0.9255\n",
      "Epoch 9/50\n",
      "59/59 [==============================] - 0s 7ms/step - loss: 0.4778 - accuracy: 0.9256 - val_loss: 0.4584 - val_accuracy: 0.9266\n",
      "Epoch 10/50\n",
      "59/59 [==============================] - 0s 7ms/step - loss: 0.4561 - accuracy: 0.9278 - val_loss: 0.4421 - val_accuracy: 0.9278\n",
      "Epoch 11/50\n",
      "59/59 [==============================] - 0s 7ms/step - loss: 0.4389 - accuracy: 0.9299 - val_loss: 0.4253 - val_accuracy: 0.9307\n",
      "Epoch 12/50\n",
      "59/59 [==============================] - 0s 7ms/step - loss: 0.4232 - accuracy: 0.9314 - val_loss: 0.4124 - val_accuracy: 0.9310\n",
      "Epoch 13/50\n",
      "59/59 [==============================] - 0s 7ms/step - loss: 0.4111 - accuracy: 0.9330 - val_loss: 0.4041 - val_accuracy: 0.9321\n",
      "Epoch 14/50\n",
      "59/59 [==============================] - 0s 7ms/step - loss: 0.4005 - accuracy: 0.9338 - val_loss: 0.3934 - val_accuracy: 0.9327\n",
      "Epoch 15/50\n",
      "59/59 [==============================] - 0s 7ms/step - loss: 0.3904 - accuracy: 0.9354 - val_loss: 0.3832 - val_accuracy: 0.9337\n",
      "Epoch 16/50\n",
      "59/59 [==============================] - 0s 7ms/step - loss: 0.3815 - accuracy: 0.9361 - val_loss: 0.3775 - val_accuracy: 0.9350\n",
      "Epoch 17/50\n",
      "59/59 [==============================] - 0s 7ms/step - loss: 0.3744 - accuracy: 0.9374 - val_loss: 0.3696 - val_accuracy: 0.9368\n",
      "Epoch 18/50\n",
      "59/59 [==============================] - 0s 7ms/step - loss: 0.3674 - accuracy: 0.9380 - val_loss: 0.3632 - val_accuracy: 0.9368\n",
      "Epoch 19/50\n",
      "59/59 [==============================] - 0s 7ms/step - loss: 0.3610 - accuracy: 0.9390 - val_loss: 0.3572 - val_accuracy: 0.9386\n",
      "Epoch 20/50\n",
      "59/59 [==============================] - 0s 7ms/step - loss: 0.3559 - accuracy: 0.9396 - val_loss: 0.3519 - val_accuracy: 0.9384\n",
      "Epoch 21/50\n",
      "59/59 [==============================] - 0s 7ms/step - loss: 0.3494 - accuracy: 0.9407 - val_loss: 0.3477 - val_accuracy: 0.9378\n",
      "Epoch 22/50\n",
      "59/59 [==============================] - 0s 7ms/step - loss: 0.3451 - accuracy: 0.9407 - val_loss: 0.3469 - val_accuracy: 0.9378\n",
      "Epoch 23/50\n",
      "59/59 [==============================] - 0s 7ms/step - loss: 0.3407 - accuracy: 0.9419 - val_loss: 0.3399 - val_accuracy: 0.9406\n",
      "Epoch 24/50\n",
      "59/59 [==============================] - 0s 7ms/step - loss: 0.3360 - accuracy: 0.9422 - val_loss: 0.3374 - val_accuracy: 0.9402\n",
      "Epoch 25/50\n",
      "59/59 [==============================] - 0s 7ms/step - loss: 0.3319 - accuracy: 0.9428 - val_loss: 0.3331 - val_accuracy: 0.9416\n",
      "Epoch 26/50\n",
      "59/59 [==============================] - 0s 7ms/step - loss: 0.3282 - accuracy: 0.9439 - val_loss: 0.3296 - val_accuracy: 0.9424\n",
      "Epoch 27/50\n",
      "59/59 [==============================] - 0s 7ms/step - loss: 0.3249 - accuracy: 0.9438 - val_loss: 0.3262 - val_accuracy: 0.9417\n",
      "Epoch 28/50\n",
      "59/59 [==============================] - 0s 7ms/step - loss: 0.3214 - accuracy: 0.9446 - val_loss: 0.3233 - val_accuracy: 0.9433\n",
      "Epoch 29/50\n",
      "59/59 [==============================] - 0s 7ms/step - loss: 0.3181 - accuracy: 0.9449 - val_loss: 0.3200 - val_accuracy: 0.9434\n",
      "Epoch 30/50\n",
      "59/59 [==============================] - 0s 7ms/step - loss: 0.3148 - accuracy: 0.9456 - val_loss: 0.3182 - val_accuracy: 0.9427\n",
      "Epoch 31/50\n",
      "59/59 [==============================] - 0s 7ms/step - loss: 0.3121 - accuracy: 0.9460 - val_loss: 0.3155 - val_accuracy: 0.9419\n",
      "Epoch 32/50\n",
      "59/59 [==============================] - 0s 7ms/step - loss: 0.3095 - accuracy: 0.9464 - val_loss: 0.3119 - val_accuracy: 0.9440\n",
      "Epoch 33/50\n",
      "59/59 [==============================] - 0s 7ms/step - loss: 0.3071 - accuracy: 0.9471 - val_loss: 0.3107 - val_accuracy: 0.9431\n",
      "Epoch 34/50\n",
      "59/59 [==============================] - 0s 7ms/step - loss: 0.3043 - accuracy: 0.9472 - val_loss: 0.3089 - val_accuracy: 0.9437\n",
      "Epoch 35/50\n",
      "59/59 [==============================] - 0s 7ms/step - loss: 0.3022 - accuracy: 0.9472 - val_loss: 0.3068 - val_accuracy: 0.9444\n",
      "Epoch 36/50\n",
      "59/59 [==============================] - 0s 7ms/step - loss: 0.3003 - accuracy: 0.9476 - val_loss: 0.3053 - val_accuracy: 0.9437\n",
      "Epoch 37/50\n",
      "59/59 [==============================] - 0s 7ms/step - loss: 0.2976 - accuracy: 0.9485 - val_loss: 0.3032 - val_accuracy: 0.9441\n",
      "Epoch 38/50\n",
      "59/59 [==============================] - 0s 7ms/step - loss: 0.2956 - accuracy: 0.9483 - val_loss: 0.3020 - val_accuracy: 0.9454\n",
      "Epoch 39/50\n",
      "59/59 [==============================] - 0s 7ms/step - loss: 0.2940 - accuracy: 0.9488 - val_loss: 0.3010 - val_accuracy: 0.9451\n",
      "Epoch 40/50\n",
      "59/59 [==============================] - 0s 7ms/step - loss: 0.2919 - accuracy: 0.9488 - val_loss: 0.2992 - val_accuracy: 0.9451\n",
      "Epoch 41/50\n",
      "59/59 [==============================] - 0s 7ms/step - loss: 0.2899 - accuracy: 0.9498 - val_loss: 0.2961 - val_accuracy: 0.9452\n",
      "Epoch 42/50\n",
      "59/59 [==============================] - 0s 7ms/step - loss: 0.2887 - accuracy: 0.9495 - val_loss: 0.2957 - val_accuracy: 0.9455\n",
      "Epoch 43/50\n",
      "59/59 [==============================] - 0s 7ms/step - loss: 0.2867 - accuracy: 0.9505 - val_loss: 0.2935 - val_accuracy: 0.9462\n",
      "Epoch 44/50\n",
      "59/59 [==============================] - 0s 7ms/step - loss: 0.2850 - accuracy: 0.9501 - val_loss: 0.2925 - val_accuracy: 0.9452\n",
      "Epoch 45/50\n",
      "59/59 [==============================] - 0s 7ms/step - loss: 0.2832 - accuracy: 0.9511 - val_loss: 0.2914 - val_accuracy: 0.9474\n",
      "Epoch 46/50\n",
      "59/59 [==============================] - 0s 7ms/step - loss: 0.2816 - accuracy: 0.9510 - val_loss: 0.2898 - val_accuracy: 0.9455\n",
      "Epoch 47/50\n",
      "59/59 [==============================] - 0s 7ms/step - loss: 0.2801 - accuracy: 0.9515 - val_loss: 0.2884 - val_accuracy: 0.9468\n",
      "Epoch 48/50\n",
      "59/59 [==============================] - 0s 7ms/step - loss: 0.2782 - accuracy: 0.9517 - val_loss: 0.2879 - val_accuracy: 0.9462\n",
      "Epoch 49/50\n",
      "59/59 [==============================] - 0s 7ms/step - loss: 0.2770 - accuracy: 0.9520 - val_loss: 0.2867 - val_accuracy: 0.9473\n",
      "Epoch 50/50\n",
      "59/59 [==============================] - 0s 7ms/step - loss: 0.2754 - accuracy: 0.9520 - val_loss: 0.2856 - val_accuracy: 0.9461\n"
     ]
    }
   ],
   "source": [
    "history = model.fit(X_train,\n",
    "          y_train,\n",
    "          epochs=50,\n",
    "          batch_size=1024,\n",
    "          shuffle=True,\n",
    "          validation_data=(X_test, y_test),\n",
    "          verbose=1)"
   ]
  },
  {
   "cell_type": "code",
   "execution_count": 61,
   "metadata": {
    "ExecuteTime": {
     "end_time": "2021-07-05T12:48:32.497546Z",
     "start_time": "2021-07-05T12:48:32.292519Z"
    },
    "scrolled": true
   },
   "outputs": [
    {
     "data": {
      "image/png": "[encoded data removed]",
      "text/plain": [
       "<Figure size 3000x1500 with 1 Axes>"
      ]
     },
     "metadata": {
      "needs_background": "light"
     },
     "output_type": "display_data"
    }
   ],
   "source": [
    "plt.figure(figsize=(10, 5), dpi=300)\n",
    "plt.plot(history.history['accuracy'])\n",
    "plt.plot(history.history['val_accuracy'])\n",
    "plt.grid()"
   ]
  },
  {
   "cell_type": "code",
   "execution_count": 52,
   "metadata": {
    "ExecuteTime": {
     "end_time": "2021-07-05T12:48:32.529518Z",
     "start_time": "2021-07-05T12:48:32.514521Z"
    }
   },
   "outputs": [
    {
     "name": "stdout",
     "output_type": "stream",
     "text": [
      "Model: \"model_3\"\n",
      "_________________________________________________________________\n",
      " Layer (type)                Output Shape              Param #   \n",
      "=================================================================\n",
      " input_9 (InputLayer)        [(None, 784)]             0         \n",
      "                                                                 \n",
      " dense_10 (Dense)            (None, 100)               78500     \n",
      "                                                                 \n",
      " custom_layer_4 (custom_laye  (None, 100)              10000     \n",
      " r)                                                              \n",
      "                                                                 \n",
      " dense_11 (Dense)            (None, 10)                1010      \n",
      "                                                                 \n",
      "=================================================================\n",
      "Total params: 89,510\n",
      "Trainable params: 89,510\n",
      "Non-trainable params: 0\n",
      "_________________________________________________________________\n"
     ]
    }
   ],
   "source": [
    "model.summary()"
   ]
  },
  {
   "cell_type": "code",
   "execution_count": 53,
   "metadata": {
    "ExecuteTime": {
     "end_time": "2021-07-05T12:46:27.805353Z",
     "start_time": "2021-07-05T12:45:42.018512Z"
    },
    "scrolled": true
   },
   "outputs": [
    {
     "name": "stdout",
     "output_type": "stream",
     "text": [
      "Epoch 1/150\n",
      "59/59 [==============================] - 2s 21ms/step - loss: 0.4871 - accuracy: 0.8698 - val_loss: 0.2046 - val_accuracy: 0.9378\n",
      "Epoch 2/150\n",
      "59/59 [==============================] - 1s 19ms/step - loss: 0.1711 - accuracy: 0.9514 - val_loss: 0.1464 - val_accuracy: 0.9541\n",
      "Epoch 3/150\n",
      "59/59 [==============================] - 1s 20ms/step - loss: 0.1190 - accuracy: 0.9657 - val_loss: 0.1107 - val_accuracy: 0.9664\n",
      "Epoch 4/150\n",
      "59/59 [==============================] - 1s 21ms/step - loss: 0.0877 - accuracy: 0.9751 - val_loss: 0.0930 - val_accuracy: 0.9712\n",
      "Epoch 5/150\n",
      "59/59 [==============================] - 1s 21ms/step - loss: 0.0665 - accuracy: 0.9809 - val_loss: 0.0793 - val_accuracy: 0.9766\n",
      "Epoch 6/150\n",
      "59/59 [==============================] - 1s 20ms/step - loss: 0.0529 - accuracy: 0.9853 - val_loss: 0.0712 - val_accuracy: 0.9780\n",
      "Epoch 7/150\n",
      "59/59 [==============================] - 1s 21ms/step - loss: 0.0407 - accuracy: 0.9889 - val_loss: 0.0687 - val_accuracy: 0.9793\n",
      "Epoch 8/150\n",
      "59/59 [==============================] - 1s 20ms/step - loss: 0.0328 - accuracy: 0.9913 - val_loss: 0.0667 - val_accuracy: 0.9794\n",
      "Epoch 9/150\n",
      "59/59 [==============================] - 1s 20ms/step - loss: 0.0261 - accuracy: 0.9930 - val_loss: 0.0627 - val_accuracy: 0.9806\n",
      "Epoch 10/150\n",
      "59/59 [==============================] - 1s 20ms/step - loss: 0.0199 - accuracy: 0.9952 - val_loss: 0.0612 - val_accuracy: 0.9809\n",
      "Epoch 11/150\n",
      "59/59 [==============================] - 1s 20ms/step - loss: 0.0156 - accuracy: 0.9971 - val_loss: 0.0592 - val_accuracy: 0.9825\n",
      "Epoch 12/150\n",
      "59/59 [==============================] - 1s 20ms/step - loss: 0.0129 - accuracy: 0.9975 - val_loss: 0.0600 - val_accuracy: 0.9824\n",
      "Epoch 13/150\n",
      "59/59 [==============================] - 1s 20ms/step - loss: 0.0100 - accuracy: 0.9985 - val_loss: 0.0642 - val_accuracy: 0.9812\n",
      "Epoch 14/150\n",
      "59/59 [==============================] - 1s 21ms/step - loss: 0.0076 - accuracy: 0.9991 - val_loss: 0.0599 - val_accuracy: 0.9822\n",
      "Epoch 15/150\n",
      "59/59 [==============================] - 1s 20ms/step - loss: 0.0058 - accuracy: 0.9993 - val_loss: 0.0618 - val_accuracy: 0.9824\n",
      "Epoch 16/150\n",
      "59/59 [==============================] - 1s 20ms/step - loss: 0.0049 - accuracy: 0.9996 - val_loss: 0.0610 - val_accuracy: 0.9827\n",
      "Epoch 17/150\n",
      "59/59 [==============================] - 1s 20ms/step - loss: 0.0042 - accuracy: 0.9997 - val_loss: 0.0623 - val_accuracy: 0.9820\n",
      "Epoch 18/150\n",
      "59/59 [==============================] - 1s 20ms/step - loss: 0.0033 - accuracy: 0.9998 - val_loss: 0.0628 - val_accuracy: 0.9828\n",
      "Epoch 19/150\n",
      "59/59 [==============================] - 1s 20ms/step - loss: 0.0026 - accuracy: 0.9999 - val_loss: 0.0651 - val_accuracy: 0.9824\n",
      "Epoch 20/150\n",
      "59/59 [==============================] - 1s 20ms/step - loss: 0.0021 - accuracy: 0.9999 - val_loss: 0.0633 - val_accuracy: 0.9825\n",
      "Epoch 21/150\n",
      "59/59 [==============================] - 1s 20ms/step - loss: 0.0018 - accuracy: 1.0000 - val_loss: 0.0654 - val_accuracy: 0.9826\n",
      "Epoch 22/150\n",
      "59/59 [==============================] - 1s 20ms/step - loss: 0.0015 - accuracy: 1.0000 - val_loss: 0.0649 - val_accuracy: 0.9828\n",
      "Epoch 23/150\n",
      "59/59 [==============================] - 1s 20ms/step - loss: 0.0013 - accuracy: 1.0000 - val_loss: 0.0660 - val_accuracy: 0.9830\n",
      "Epoch 24/150\n",
      "59/59 [==============================] - 1s 20ms/step - loss: 0.0011 - accuracy: 1.0000 - val_loss: 0.0658 - val_accuracy: 0.9832\n",
      "Epoch 25/150\n",
      "59/59 [==============================] - 1s 21ms/step - loss: 0.0010 - accuracy: 1.0000 - val_loss: 0.0661 - val_accuracy: 0.9830\n",
      "Epoch 26/150\n",
      "59/59 [==============================] - 1s 21ms/step - loss: 9.1373e-04 - accuracy: 1.0000 - val_loss: 0.0670 - val_accuracy: 0.9832\n",
      "Epoch 27/150\n",
      "59/59 [==============================] - 1s 20ms/step - loss: 8.0879e-04 - accuracy: 1.0000 - val_loss: 0.0683 - val_accuracy: 0.9835\n",
      "Epoch 28/150\n",
      "59/59 [==============================] - 1s 21ms/step - loss: 7.2385e-04 - accuracy: 1.0000 - val_loss: 0.0684 - val_accuracy: 0.9832\n",
      "Epoch 29/150\n",
      "59/59 [==============================] - 1s 21ms/step - loss: 6.5325e-04 - accuracy: 1.0000 - val_loss: 0.0686 - val_accuracy: 0.9832\n",
      "Epoch 30/150\n",
      "59/59 [==============================] - 1s 21ms/step - loss: 5.9853e-04 - accuracy: 1.0000 - val_loss: 0.0695 - val_accuracy: 0.9833\n",
      "Epoch 31/150\n",
      "59/59 [==============================] - 1s 20ms/step - loss: 5.6106e-04 - accuracy: 1.0000 - val_loss: 0.0700 - val_accuracy: 0.9833\n",
      "Epoch 32/150\n",
      "59/59 [==============================] - 1s 20ms/step - loss: 5.0665e-04 - accuracy: 1.0000 - val_loss: 0.0702 - val_accuracy: 0.9834\n",
      "Epoch 33/150\n",
      "59/59 [==============================] - 1s 20ms/step - loss: 4.6209e-04 - accuracy: 1.0000 - val_loss: 0.0698 - val_accuracy: 0.9833\n",
      "Epoch 34/150\n",
      "59/59 [==============================] - 1s 20ms/step - loss: 4.2380e-04 - accuracy: 1.0000 - val_loss: 0.0707 - val_accuracy: 0.9831\n",
      "Epoch 35/150\n",
      "59/59 [==============================] - 1s 20ms/step - loss: 3.8709e-04 - accuracy: 1.0000 - val_loss: 0.0714 - val_accuracy: 0.9828\n",
      "Epoch 36/150\n",
      "59/59 [==============================] - 1s 20ms/step - loss: 3.5653e-04 - accuracy: 1.0000 - val_loss: 0.0715 - val_accuracy: 0.9830\n",
      "Epoch 37/150\n",
      "59/59 [==============================] - 1s 20ms/step - loss: 3.3571e-04 - accuracy: 1.0000 - val_loss: 0.0716 - val_accuracy: 0.9835\n",
      "Epoch 38/150\n",
      "59/59 [==============================] - 1s 20ms/step - loss: 3.1316e-04 - accuracy: 1.0000 - val_loss: 0.0729 - val_accuracy: 0.9834\n",
      "Epoch 39/150\n",
      "59/59 [==============================] - 1s 20ms/step - loss: 2.9235e-04 - accuracy: 1.0000 - val_loss: 0.0730 - val_accuracy: 0.9832\n",
      "Epoch 40/150\n",
      "59/59 [==============================] - 1s 20ms/step - loss: 2.7269e-04 - accuracy: 1.0000 - val_loss: 0.0739 - val_accuracy: 0.9834\n",
      "Epoch 41/150\n",
      "59/59 [==============================] - 1s 19ms/step - loss: 2.5433e-04 - accuracy: 1.0000 - val_loss: 0.0740 - val_accuracy: 0.9832\n",
      "Epoch 42/150\n",
      "59/59 [==============================] - 1s 21ms/step - loss: 2.3973e-04 - accuracy: 1.0000 - val_loss: 0.0742 - val_accuracy: 0.9834\n",
      "Epoch 43/150\n",
      "59/59 [==============================] - 1s 20ms/step - loss: 2.2691e-04 - accuracy: 1.0000 - val_loss: 0.0742 - val_accuracy: 0.9833\n",
      "Epoch 44/150\n",
      "59/59 [==============================] - 1s 20ms/step - loss: 2.1067e-04 - accuracy: 1.0000 - val_loss: 0.0747 - val_accuracy: 0.9836\n",
      "Epoch 45/150\n",
      "59/59 [==============================] - 1s 21ms/step - loss: 1.9684e-04 - accuracy: 1.0000 - val_loss: 0.0752 - val_accuracy: 0.9831\n",
      "Epoch 46/150\n",
      "59/59 [==============================] - 1s 21ms/step - loss: 1.8641e-04 - accuracy: 1.0000 - val_loss: 0.0756 - val_accuracy: 0.9838\n",
      "Epoch 47/150\n",
      "59/59 [==============================] - 1s 21ms/step - loss: 1.7593e-04 - accuracy: 1.0000 - val_loss: 0.0760 - val_accuracy: 0.9834\n",
      "Epoch 48/150\n",
      "59/59 [==============================] - 1s 20ms/step - loss: 1.6525e-04 - accuracy: 1.0000 - val_loss: 0.0763 - val_accuracy: 0.9833\n",
      "Epoch 49/150\n",
      "59/59 [==============================] - 1s 20ms/step - loss: 1.5767e-04 - accuracy: 1.0000 - val_loss: 0.0763 - val_accuracy: 0.9837\n",
      "Epoch 50/150\n",
      "59/59 [==============================] - 1s 21ms/step - loss: 1.4976e-04 - accuracy: 1.0000 - val_loss: 0.0772 - val_accuracy: 0.9836\n",
      "Epoch 51/150\n",
      "59/59 [==============================] - 1s 21ms/step - loss: 1.3883e-04 - accuracy: 1.0000 - val_loss: 0.0776 - val_accuracy: 0.9836\n",
      "Epoch 52/150\n",
      "59/59 [==============================] - 1s 21ms/step - loss: 1.3277e-04 - accuracy: 1.0000 - val_loss: 0.0778 - val_accuracy: 0.9835\n",
      "Epoch 53/150\n",
      "59/59 [==============================] - 1s 21ms/step - loss: 1.2517e-04 - accuracy: 1.0000 - val_loss: 0.0784 - val_accuracy: 0.9838\n",
      "Epoch 54/150\n",
      "59/59 [==============================] - 1s 20ms/step - loss: 1.1987e-04 - accuracy: 1.0000 - val_loss: 0.0784 - val_accuracy: 0.9835\n",
      "Epoch 55/150\n",
      "59/59 [==============================] - 1s 20ms/step - loss: 1.1318e-04 - accuracy: 1.0000 - val_loss: 0.0790 - val_accuracy: 0.9837\n",
      "Epoch 56/150\n",
      "59/59 [==============================] - 1s 21ms/step - loss: 1.0783e-04 - accuracy: 1.0000 - val_loss: 0.0788 - val_accuracy: 0.9836\n",
      "Epoch 57/150\n"
     ]
    },
    {
     "name": "stdout",
     "output_type": "stream",
     "text": [
      "59/59 [==============================] - 1s 21ms/step - loss: 1.0236e-04 - accuracy: 1.0000 - val_loss: 0.0797 - val_accuracy: 0.9837\n",
      "Epoch 58/150\n",
      "59/59 [==============================] - 1s 21ms/step - loss: 9.6564e-05 - accuracy: 1.0000 - val_loss: 0.0798 - val_accuracy: 0.9837\n",
      "Epoch 59/150\n",
      "59/59 [==============================] - 1s 21ms/step - loss: 9.1400e-05 - accuracy: 1.0000 - val_loss: 0.0804 - val_accuracy: 0.9836\n",
      "Epoch 60/150\n",
      "59/59 [==============================] - 1s 21ms/step - loss: 8.8022e-05 - accuracy: 1.0000 - val_loss: 0.0809 - val_accuracy: 0.9836\n",
      "Epoch 61/150\n",
      "59/59 [==============================] - 1s 20ms/step - loss: 8.3205e-05 - accuracy: 1.0000 - val_loss: 0.0811 - val_accuracy: 0.9835\n",
      "Epoch 62/150\n",
      "59/59 [==============================] - 1s 20ms/step - loss: 7.9158e-05 - accuracy: 1.0000 - val_loss: 0.0813 - val_accuracy: 0.9837\n",
      "Epoch 63/150\n",
      "59/59 [==============================] - 1s 20ms/step - loss: 7.5552e-05 - accuracy: 1.0000 - val_loss: 0.0818 - val_accuracy: 0.9838\n",
      "Epoch 64/150\n",
      "59/59 [==============================] - 1s 20ms/step - loss: 7.1931e-05 - accuracy: 1.0000 - val_loss: 0.0818 - val_accuracy: 0.9835\n",
      "Epoch 65/150\n",
      "59/59 [==============================] - 1s 22ms/step - loss: 6.9004e-05 - accuracy: 1.0000 - val_loss: 0.0825 - val_accuracy: 0.9836\n",
      "Epoch 66/150\n",
      "59/59 [==============================] - 1s 22ms/step - loss: 6.5638e-05 - accuracy: 1.0000 - val_loss: 0.0828 - val_accuracy: 0.9836\n",
      "Epoch 67/150\n",
      "59/59 [==============================] - 1s 20ms/step - loss: 6.3360e-05 - accuracy: 1.0000 - val_loss: 0.0832 - val_accuracy: 0.9837\n",
      "Epoch 68/150\n",
      "59/59 [==============================] - 1s 19ms/step - loss: 5.9825e-05 - accuracy: 1.0000 - val_loss: 0.0833 - val_accuracy: 0.9837\n",
      "Epoch 69/150\n",
      "59/59 [==============================] - 1s 20ms/step - loss: 5.7024e-05 - accuracy: 1.0000 - val_loss: 0.0836 - val_accuracy: 0.9836\n",
      "Epoch 70/150\n",
      "59/59 [==============================] - 1s 20ms/step - loss: 5.4708e-05 - accuracy: 1.0000 - val_loss: 0.0836 - val_accuracy: 0.9837\n",
      "Epoch 71/150\n",
      "59/59 [==============================] - 1s 20ms/step - loss: 5.2349e-05 - accuracy: 1.0000 - val_loss: 0.0844 - val_accuracy: 0.9836\n",
      "Epoch 72/150\n",
      "59/59 [==============================] - 1s 20ms/step - loss: 4.9726e-05 - accuracy: 1.0000 - val_loss: 0.0846 - val_accuracy: 0.9837\n",
      "Epoch 73/150\n",
      "59/59 [==============================] - 1s 20ms/step - loss: 4.7662e-05 - accuracy: 1.0000 - val_loss: 0.0847 - val_accuracy: 0.9837\n",
      "Epoch 74/150\n",
      "59/59 [==============================] - 1s 19ms/step - loss: 4.5808e-05 - accuracy: 1.0000 - val_loss: 0.0850 - val_accuracy: 0.9838\n",
      "Epoch 75/150\n",
      "59/59 [==============================] - 1s 20ms/step - loss: 4.3977e-05 - accuracy: 1.0000 - val_loss: 0.0856 - val_accuracy: 0.9839\n",
      "Epoch 76/150\n",
      "59/59 [==============================] - 1s 20ms/step - loss: 4.1695e-05 - accuracy: 1.0000 - val_loss: 0.0855 - val_accuracy: 0.9839\n",
      "Epoch 77/150\n",
      "59/59 [==============================] - 1s 20ms/step - loss: 4.0156e-05 - accuracy: 1.0000 - val_loss: 0.0860 - val_accuracy: 0.9839\n",
      "Epoch 78/150\n",
      "59/59 [==============================] - 1s 20ms/step - loss: 3.8480e-05 - accuracy: 1.0000 - val_loss: 0.0865 - val_accuracy: 0.9838\n",
      "Epoch 79/150\n",
      "59/59 [==============================] - 1s 20ms/step - loss: 3.7272e-05 - accuracy: 1.0000 - val_loss: 0.0868 - val_accuracy: 0.9837\n",
      "Epoch 80/150\n",
      "59/59 [==============================] - 1s 20ms/step - loss: 3.5492e-05 - accuracy: 1.0000 - val_loss: 0.0873 - val_accuracy: 0.9836\n",
      "Epoch 81/150\n",
      "59/59 [==============================] - 1s 20ms/step - loss: 3.3879e-05 - accuracy: 1.0000 - val_loss: 0.0873 - val_accuracy: 0.9837\n",
      "Epoch 82/150\n",
      "59/59 [==============================] - 1s 20ms/step - loss: 3.2577e-05 - accuracy: 1.0000 - val_loss: 0.0875 - val_accuracy: 0.9837\n",
      "Epoch 83/150\n",
      "59/59 [==============================] - 1s 20ms/step - loss: 3.1222e-05 - accuracy: 1.0000 - val_loss: 0.0879 - val_accuracy: 0.9836\n",
      "Epoch 84/150\n",
      "59/59 [==============================] - 1s 20ms/step - loss: 2.9945e-05 - accuracy: 1.0000 - val_loss: 0.0881 - val_accuracy: 0.9837\n",
      "Epoch 85/150\n",
      "59/59 [==============================] - 1s 20ms/step - loss: 2.8783e-05 - accuracy: 1.0000 - val_loss: 0.0886 - val_accuracy: 0.9837\n",
      "Epoch 86/150\n",
      "59/59 [==============================] - 1s 19ms/step - loss: 2.7846e-05 - accuracy: 1.0000 - val_loss: 0.0887 - val_accuracy: 0.9838\n",
      "Epoch 87/150\n",
      "59/59 [==============================] - 1s 20ms/step - loss: 2.6764e-05 - accuracy: 1.0000 - val_loss: 0.0888 - val_accuracy: 0.9840\n",
      "Epoch 88/150\n",
      "59/59 [==============================] - 1s 20ms/step - loss: 2.5431e-05 - accuracy: 1.0000 - val_loss: 0.0892 - val_accuracy: 0.9838\n",
      "Epoch 89/150\n",
      "59/59 [==============================] - 1s 20ms/step - loss: 2.4429e-05 - accuracy: 1.0000 - val_loss: 0.0900 - val_accuracy: 0.9835\n",
      "Epoch 90/150\n",
      "59/59 [==============================] - 1s 20ms/step - loss: 2.3311e-05 - accuracy: 1.0000 - val_loss: 0.0901 - val_accuracy: 0.9839\n",
      "Epoch 91/150\n",
      "59/59 [==============================] - 1s 20ms/step - loss: 2.2511e-05 - accuracy: 1.0000 - val_loss: 0.0901 - val_accuracy: 0.9838\n",
      "Epoch 92/150\n",
      "59/59 [==============================] - 1s 20ms/step - loss: 2.1592e-05 - accuracy: 1.0000 - val_loss: 0.0903 - val_accuracy: 0.9839\n",
      "Epoch 93/150\n",
      "59/59 [==============================] - 1s 20ms/step - loss: 2.0892e-05 - accuracy: 1.0000 - val_loss: 0.0905 - val_accuracy: 0.9839\n",
      "Epoch 94/150\n",
      "59/59 [==============================] - 1s 20ms/step - loss: 1.9914e-05 - accuracy: 1.0000 - val_loss: 0.0910 - val_accuracy: 0.9837\n",
      "Epoch 95/150\n",
      "59/59 [==============================] - 1s 20ms/step - loss: 1.9186e-05 - accuracy: 1.0000 - val_loss: 0.0910 - val_accuracy: 0.9838\n",
      "Epoch 96/150\n",
      "59/59 [==============================] - 1s 20ms/step - loss: 1.8444e-05 - accuracy: 1.0000 - val_loss: 0.0917 - val_accuracy: 0.9838\n",
      "Epoch 97/150\n",
      "59/59 [==============================] - 1s 19ms/step - loss: 1.7768e-05 - accuracy: 1.0000 - val_loss: 0.0921 - val_accuracy: 0.9839\n",
      "Epoch 98/150\n",
      "59/59 [==============================] - 1s 20ms/step - loss: 1.7158e-05 - accuracy: 1.0000 - val_loss: 0.0922 - val_accuracy: 0.9839\n",
      "Epoch 99/150\n",
      "59/59 [==============================] - 1s 20ms/step - loss: 1.6499e-05 - accuracy: 1.0000 - val_loss: 0.0925 - val_accuracy: 0.9838\n",
      "Epoch 100/150\n",
      "59/59 [==============================] - 1s 19ms/step - loss: 1.5836e-05 - accuracy: 1.0000 - val_loss: 0.0930 - val_accuracy: 0.9837\n",
      "Epoch 101/150\n",
      "59/59 [==============================] - 1s 20ms/step - loss: 1.5316e-05 - accuracy: 1.0000 - val_loss: 0.0931 - val_accuracy: 0.9839\n",
      "Epoch 102/150\n",
      "59/59 [==============================] - 1s 20ms/step - loss: 1.4637e-05 - accuracy: 1.0000 - val_loss: 0.0932 - val_accuracy: 0.9840\n",
      "Epoch 103/150\n",
      "59/59 [==============================] - 1s 20ms/step - loss: 1.4061e-05 - accuracy: 1.0000 - val_loss: 0.0936 - val_accuracy: 0.9838\n",
      "Epoch 104/150\n",
      "59/59 [==============================] - 1s 20ms/step - loss: 1.3585e-05 - accuracy: 1.0000 - val_loss: 0.0938 - val_accuracy: 0.9839\n",
      "Epoch 105/150\n",
      "59/59 [==============================] - 1s 20ms/step - loss: 1.3095e-05 - accuracy: 1.0000 - val_loss: 0.0941 - val_accuracy: 0.9839\n",
      "Epoch 106/150\n",
      "59/59 [==============================] - 1s 20ms/step - loss: 1.2623e-05 - accuracy: 1.0000 - val_loss: 0.0940 - val_accuracy: 0.9839\n",
      "Epoch 107/150\n",
      "59/59 [==============================] - 1s 19ms/step - loss: 1.2175e-05 - accuracy: 1.0000 - val_loss: 0.0945 - val_accuracy: 0.9841\n",
      "Epoch 108/150\n",
      "59/59 [==============================] - 1s 20ms/step - loss: 1.1708e-05 - accuracy: 1.0000 - val_loss: 0.0948 - val_accuracy: 0.9840\n",
      "Epoch 109/150\n",
      "59/59 [==============================] - 1s 20ms/step - loss: 1.1279e-05 - accuracy: 1.0000 - val_loss: 0.0948 - val_accuracy: 0.9840\n",
      "Epoch 110/150\n",
      "59/59 [==============================] - 1s 20ms/step - loss: 1.0822e-05 - accuracy: 1.0000 - val_loss: 0.0951 - val_accuracy: 0.9841\n",
      "Epoch 111/150\n",
      "59/59 [==============================] - 1s 20ms/step - loss: 1.0445e-05 - accuracy: 1.0000 - val_loss: 0.0956 - val_accuracy: 0.9839\n",
      "Epoch 112/150\n",
      "59/59 [==============================] - 1s 20ms/step - loss: 1.0105e-05 - accuracy: 1.0000 - val_loss: 0.0961 - val_accuracy: 0.9839\n"
     ]
    },
    {
     "name": "stdout",
     "output_type": "stream",
     "text": [
      "Epoch 113/150\n",
      "59/59 [==============================] - 1s 20ms/step - loss: 9.6861e-06 - accuracy: 1.0000 - val_loss: 0.0967 - val_accuracy: 0.9836\n",
      "Epoch 114/150\n",
      "59/59 [==============================] - 1s 20ms/step - loss: 9.3702e-06 - accuracy: 1.0000 - val_loss: 0.0966 - val_accuracy: 0.9839\n",
      "Epoch 115/150\n",
      "59/59 [==============================] - 1s 20ms/step - loss: 8.9656e-06 - accuracy: 1.0000 - val_loss: 0.0965 - val_accuracy: 0.9842\n",
      "Epoch 116/150\n",
      "59/59 [==============================] - 1s 19ms/step - loss: 8.6896e-06 - accuracy: 1.0000 - val_loss: 0.0970 - val_accuracy: 0.9838\n",
      "Epoch 117/150\n",
      "59/59 [==============================] - 1s 19ms/step - loss: 8.3474e-06 - accuracy: 1.0000 - val_loss: 0.0971 - val_accuracy: 0.9839\n",
      "Epoch 118/150\n",
      "59/59 [==============================] - 1s 20ms/step - loss: 8.0660e-06 - accuracy: 1.0000 - val_loss: 0.0975 - val_accuracy: 0.9840\n",
      "Epoch 119/150\n",
      "59/59 [==============================] - 1s 20ms/step - loss: 7.7918e-06 - accuracy: 1.0000 - val_loss: 0.0977 - val_accuracy: 0.9839\n",
      "Epoch 120/150\n",
      "59/59 [==============================] - 1s 20ms/step - loss: 7.5321e-06 - accuracy: 1.0000 - val_loss: 0.0981 - val_accuracy: 0.9840\n",
      "Epoch 121/150\n",
      "59/59 [==============================] - 1s 20ms/step - loss: 7.1846e-06 - accuracy: 1.0000 - val_loss: 0.0984 - val_accuracy: 0.9838\n",
      "Epoch 122/150\n",
      "59/59 [==============================] - 1s 19ms/step - loss: 6.9603e-06 - accuracy: 1.0000 - val_loss: 0.0988 - val_accuracy: 0.9836\n",
      "Epoch 123/150\n",
      "59/59 [==============================] - 1s 20ms/step - loss: 6.7617e-06 - accuracy: 1.0000 - val_loss: 0.0992 - val_accuracy: 0.9838\n",
      "Epoch 124/150\n",
      "59/59 [==============================] - 1s 20ms/step - loss: 6.5119e-06 - accuracy: 1.0000 - val_loss: 0.0990 - val_accuracy: 0.9839\n",
      "Epoch 125/150\n",
      "59/59 [==============================] - 1s 19ms/step - loss: 6.2569e-06 - accuracy: 1.0000 - val_loss: 0.0994 - val_accuracy: 0.9840\n",
      "Epoch 126/150\n",
      "59/59 [==============================] - 1s 20ms/step - loss: 6.0644e-06 - accuracy: 1.0000 - val_loss: 0.0994 - val_accuracy: 0.9839\n",
      "Epoch 127/150\n",
      "59/59 [==============================] - 1s 20ms/step - loss: 5.8518e-06 - accuracy: 1.0000 - val_loss: 0.0996 - val_accuracy: 0.9838\n",
      "Epoch 128/150\n",
      "59/59 [==============================] - 1s 20ms/step - loss: 5.5856e-06 - accuracy: 1.0000 - val_loss: 0.1006 - val_accuracy: 0.9837\n",
      "Epoch 129/150\n",
      "59/59 [==============================] - 1s 20ms/step - loss: 5.4035e-06 - accuracy: 1.0000 - val_loss: 0.1004 - val_accuracy: 0.9840\n",
      "Epoch 130/150\n",
      "59/59 [==============================] - 1s 20ms/step - loss: 5.2105e-06 - accuracy: 1.0000 - val_loss: 0.1007 - val_accuracy: 0.9838\n",
      "Epoch 131/150\n",
      "59/59 [==============================] - 1s 20ms/step - loss: 5.0457e-06 - accuracy: 1.0000 - val_loss: 0.1012 - val_accuracy: 0.9839\n",
      "Epoch 132/150\n",
      "59/59 [==============================] - 1s 20ms/step - loss: 4.8500e-06 - accuracy: 1.0000 - val_loss: 0.1011 - val_accuracy: 0.9837\n",
      "Epoch 133/150\n",
      "59/59 [==============================] - 1s 19ms/step - loss: 4.6831e-06 - accuracy: 1.0000 - val_loss: 0.1015 - val_accuracy: 0.9840\n",
      "Epoch 134/150\n",
      "59/59 [==============================] - 1s 19ms/step - loss: 4.5300e-06 - accuracy: 1.0000 - val_loss: 0.1017 - val_accuracy: 0.9838\n",
      "Epoch 135/150\n",
      "59/59 [==============================] - 1s 19ms/step - loss: 4.3529e-06 - accuracy: 1.0000 - val_loss: 0.1021 - val_accuracy: 0.9840\n",
      "Epoch 136/150\n",
      "59/59 [==============================] - 1s 20ms/step - loss: 4.2165e-06 - accuracy: 1.0000 - val_loss: 0.1021 - val_accuracy: 0.9840\n",
      "Epoch 137/150\n",
      "59/59 [==============================] - 1s 20ms/step - loss: 4.0670e-06 - accuracy: 1.0000 - val_loss: 0.1026 - val_accuracy: 0.9839\n",
      "Epoch 138/150\n",
      "59/59 [==============================] - 1s 20ms/step - loss: 3.9339e-06 - accuracy: 1.0000 - val_loss: 0.1029 - val_accuracy: 0.9838\n",
      "Epoch 139/150\n",
      "59/59 [==============================] - 1s 20ms/step - loss: 3.7863e-06 - accuracy: 1.0000 - val_loss: 0.1032 - val_accuracy: 0.9838\n",
      "Epoch 140/150\n",
      "59/59 [==============================] - 1s 20ms/step - loss: 3.6813e-06 - accuracy: 1.0000 - val_loss: 0.1033 - val_accuracy: 0.9838\n",
      "Epoch 141/150\n",
      "59/59 [==============================] - 1s 20ms/step - loss: 3.5596e-06 - accuracy: 1.0000 - val_loss: 0.1040 - val_accuracy: 0.9836\n",
      "Epoch 142/150\n",
      "59/59 [==============================] - 1s 19ms/step - loss: 3.4199e-06 - accuracy: 1.0000 - val_loss: 0.1035 - val_accuracy: 0.9839\n",
      "Epoch 143/150\n",
      "59/59 [==============================] - 1s 20ms/step - loss: 3.2962e-06 - accuracy: 1.0000 - val_loss: 0.1043 - val_accuracy: 0.9838\n",
      "Epoch 144/150\n",
      "59/59 [==============================] - 1s 20ms/step - loss: 3.1921e-06 - accuracy: 1.0000 - val_loss: 0.1044 - val_accuracy: 0.9841\n",
      "Epoch 145/150\n",
      "59/59 [==============================] - 1s 20ms/step - loss: 3.0814e-06 - accuracy: 1.0000 - val_loss: 0.1043 - val_accuracy: 0.9839\n",
      "Epoch 146/150\n",
      "59/59 [==============================] - 1s 19ms/step - loss: 2.9875e-06 - accuracy: 1.0000 - val_loss: 0.1050 - val_accuracy: 0.9839\n",
      "Epoch 147/150\n",
      "59/59 [==============================] - 1s 20ms/step - loss: 2.8592e-06 - accuracy: 1.0000 - val_loss: 0.1050 - val_accuracy: 0.9840\n",
      "Epoch 148/150\n",
      "59/59 [==============================] - 1s 20ms/step - loss: 2.7867e-06 - accuracy: 1.0000 - val_loss: 0.1053 - val_accuracy: 0.9838\n",
      "Epoch 149/150\n",
      "59/59 [==============================] - 1s 20ms/step - loss: 2.6854e-06 - accuracy: 1.0000 - val_loss: 0.1056 - val_accuracy: 0.9839\n",
      "Epoch 150/150\n",
      "59/59 [==============================] - 1s 19ms/step - loss: 2.5905e-06 - accuracy: 1.0000 - val_loss: 0.1058 - val_accuracy: 0.9840\n"
     ]
    }
   ],
   "source": [
    "input_img = Input((num_pixels, ))\n",
    "x = Dense(700, activation='relu')(input_img)\n",
    "x = Dense(100, activation='relu')(x)\n",
    "end = Dense(num_classes, activation='softmax')(x)\n",
    "\n",
    "model = Model(input_img, end)\n",
    "model.compile(optimizer='adam',\n",
    "              loss='categorical_crossentropy',\n",
    "              metrics=['accuracy'])\n",
    "history = model.fit(X_train,\n",
    "          y_train,\n",
    "          epochs=150,\n",
    "          batch_size=1024,\n",
    "          shuffle=True,\n",
    "          validation_data=(X_test, y_test),\n",
    "          verbose=1)"
   ]
  },
  {
   "cell_type": "code",
   "execution_count": null,
   "metadata": {
    "ExecuteTime": {
     "end_time": "2021-07-05T12:46:39.523881Z",
     "start_time": "2021-07-05T12:46:39.305881Z"
    }
   },
   "outputs": [],
   "source": [
    "plt.figure(figsize=(10, 5), dpi=300)\n",
    "plt.plot(history.history['accuracy'])\n",
    "plt.plot(history.history['val_accuracy'])\n",
    "plt.grid()"
   ]
  },
  {
   "cell_type": "code",
   "execution_count": null,
   "metadata": {
    "ExecuteTime": {
     "end_time": "2021-07-05T12:47:11.574831Z",
     "start_time": "2021-07-05T12:47:11.571830Z"
    }
   },
   "outputs": [],
   "source": [
    "model.summary()"
   ]
  },
  {
   "cell_type": "code",
   "execution_count": null,
   "metadata": {
    "ExecuteTime": {
     "end_time": "2021-03-24T12:47:08.058885Z",
     "start_time": "2021-03-24T12:46:20.206076Z"
    },
    "run_control": {
     "marked": false
    },
    "scrolled": true
   },
   "outputs": [],
   "source": [
    "history = model.fit(X_train,\n",
    "          y_train,\n",
    "          epochs=200,\n",
    "          batch_size=1024,\n",
    "          shuffle=True,\n",
    "          validation_data=(X_test, y_test),\n",
    "          verbose=1)"
   ]
  },
  {
   "cell_type": "code",
   "execution_count": null,
   "metadata": {
    "ExecuteTime": {
     "end_time": "2021-03-24T12:47:29.643901Z",
     "start_time": "2021-03-24T12:47:29.312299Z"
    },
    "scrolled": true
   },
   "outputs": [],
   "source": [
    "plt.figure(figsize=(10, 5), dpi=300)\n",
    "plt.plot(history.history['accuracy'])\n",
    "plt.plot(history.history['val_accuracy'])\n",
    "plt.grid()"
   ]
  },
  {
   "cell_type": "code",
   "execution_count": null,
   "metadata": {
    "ExecuteTime": {
     "end_time": "2021-03-24T12:50:16.485674Z",
     "start_time": "2021-03-24T12:49:23.932068Z"
    },
    "scrolled": true
   },
   "outputs": [],
   "source": [
    "input_img = Input((num_pixels, ))\n",
    "x = Dense(700, activation='relu')(input_img)\n",
    "x = Dropout(0.5)(x)\n",
    "x = Dense(100, activation='relu')(x)\n",
    "x = Dropout(0.5)(x)\n",
    "end = Dense(num_classes, activation='softmax')(x)\n",
    "\n",
    "model = Model(input_img, end)\n",
    "model.compile(optimizer='adam',\n",
    "              loss='categorical_crossentropy',\n",
    "              metrics=['accuracy'])\n",
    "history = model.fit(X_train,\n",
    "          y_train,\n",
    "          epochs=50,\n",
    "          batch_size=128,\n",
    "          shuffle=True,\n",
    "          validation_data=(X_test, y_test),\n",
    "          verbose=1)"
   ]
  },
  {
   "cell_type": "markdown",
   "metadata": {
    "heading_collapsed": true
   },
   "source": [
    "# Convolution"
   ]
  },
  {
   "cell_type": "code",
   "execution_count": null,
   "metadata": {
    "ExecuteTime": {
     "end_time": "2021-03-24T13:07:41.736069Z",
     "start_time": "2021-03-24T13:07:41.733068Z"
    },
    "hidden": true
   },
   "outputs": [],
   "source": [
    "X_train = np.reshape(X_train, (len(X_train), 28, 28, 1))\n",
    "X_test = np.reshape(X_test, (len(X_test), 28, 28, 1))"
   ]
  },
  {
   "cell_type": "code",
   "execution_count": null,
   "metadata": {
    "ExecuteTime": {
     "end_time": "2021-03-24T13:12:50.294766Z",
     "start_time": "2021-03-24T13:12:50.226637Z"
    },
    "hidden": true
   },
   "outputs": [],
   "source": [
    "input_img = Input(shape=(28, 28, 1))\n",
    "\n",
    "x = Conv2D(30, (5, 5), activation='relu', padding='same')(input_img)\n",
    "x = MaxPooling2D((2, 2))(x)\n",
    "x = Conv2D(16, (5, 5), activation='relu', padding='valid')(x)\n",
    "x = MaxPooling2D((2, 2))(x)\n",
    "x = Flatten()(x)\n",
    "x = Dense(64, activation='relu')(x)\n",
    "x = Dropout(0.5)(x)\n",
    "end = Dense(10, activation='softmax')(x)\n",
    "\n",
    "model = Model(input_img, end)\n",
    "model.compile(optimizer='adam',\n",
    "              loss='categorical_crossentropy',\n",
    "              metrics=['accuracy'])"
   ]
  },
  {
   "cell_type": "code",
   "execution_count": null,
   "metadata": {
    "ExecuteTime": {
     "end_time": "2021-03-24T13:13:25.123109Z",
     "start_time": "2021-03-24T13:12:53.923558Z"
    },
    "hidden": true,
    "run_control": {
     "marked": false
    },
    "scrolled": true
   },
   "outputs": [],
   "source": [
    "history = model.fit(X_train,\n",
    "          y_train,\n",
    "          epochs=50,\n",
    "          batch_size=1024,\n",
    "          shuffle=True,\n",
    "          validation_data=(X_test, y_test),\n",
    "          verbose=1)"
   ]
  },
  {
   "cell_type": "code",
   "execution_count": null,
   "metadata": {
    "ExecuteTime": {
     "end_time": "2021-03-24T13:14:33.709041Z",
     "start_time": "2021-03-24T13:14:33.387873Z"
    },
    "hidden": true,
    "scrolled": false
   },
   "outputs": [],
   "source": [
    "plt.figure(figsize=(10, 5), dpi=300)\n",
    "plt.plot(history.history['accuracy'])\n",
    "plt.plot(history.history['val_accuracy'])"
   ]
  },
  {
   "cell_type": "code",
   "execution_count": null,
   "metadata": {
    "ExecuteTime": {
     "end_time": "2021-03-24T13:15:05.736907Z",
     "start_time": "2021-03-24T13:15:05.729907Z"
    },
    "hidden": true,
    "scrolled": false
   },
   "outputs": [],
   "source": [
    "model.summary()"
   ]
  },
  {
   "cell_type": "code",
   "execution_count": null,
   "metadata": {
    "ExecuteTime": {
     "end_time": "2021-03-24T13:18:50.980596Z",
     "start_time": "2021-03-24T13:18:50.952121Z"
    },
    "hidden": true
   },
   "outputs": [],
   "source": [
    "model.get_weights()"
   ]
  },
  {
   "cell_type": "code",
   "execution_count": null,
   "metadata": {
    "ExecuteTime": {
     "end_time": "2021-03-24T13:16:02.674215Z",
     "start_time": "2021-03-24T13:16:02.288718Z"
    },
    "hidden": true
   },
   "outputs": [],
   "source": [
    "model.predict(X_test)[0]"
   ]
  },
  {
   "cell_type": "code",
   "execution_count": null,
   "metadata": {
    "ExecuteTime": {
     "end_time": "2020-09-26T15:37:08.546307Z",
     "start_time": "2020-09-26T15:37:08.544307Z"
    },
    "hidden": true
   },
   "outputs": [],
   "source": [
    "def s(a, b, c, d):\n",
    "    return (a*b)+(c*d)"
   ]
  },
  {
   "cell_type": "code",
   "execution_count": null,
   "metadata": {
    "ExecuteTime": {
     "end_time": "2020-09-26T15:37:39.298519Z",
     "start_time": "2020-09-26T15:37:39.295517Z"
    },
    "hidden": true
   },
   "outputs": [],
   "source": [
    "s(**{'a': 2, 'c': 3, 'b': 4, 'd':5})"
   ]
  },
  {
   "cell_type": "code",
   "execution_count": null,
   "metadata": {
    "ExecuteTime": {
     "end_time": "2020-09-26T15:47:57.040562Z",
     "start_time": "2020-09-26T15:47:57.037562Z"
    },
    "hidden": true
   },
   "outputs": [],
   "source": [
    "type((1, ))"
   ]
  },
  {
   "cell_type": "code",
   "execution_count": null,
   "metadata": {
    "ExecuteTime": {
     "end_time": "2021-03-24T13:20:44.167282Z",
     "start_time": "2021-03-24T13:20:44.160283Z"
    },
    "hidden": true
   },
   "outputs": [],
   "source": [
    "class MyLayer(tf.keras.layers.Layer):\n",
    "    def __init__(self, units=10, **kvargs):\n",
    "        self.units = units\n",
    "        super(MyLayer, self).__init__(**kvargs)\n",
    "    \n",
    "    def build(self, input_shape):\n",
    "        self.w = self.add_weight((input_shape[-1], self.units),\n",
    "                                dtype=tf.float32,\n",
    "                                trainable=True,\n",
    "                                initializer='ones')\n",
    "        self.b = tf.Variable(np.zeros((self.units, ), dtype=np.float32),\n",
    "                             trainable=True)\n",
    "    \n",
    "    def call(self, inputs):\n",
    "        inputs = tf.cast(inputs, 'float32')\n",
    "        result = w @ inputs + b\n",
    "        return result\n",
    "    "
   ]
  },
  {
   "cell_type": "code",
   "execution_count": null,
   "metadata": {
    "ExecuteTime": {
     "end_time": "2021-04-19T15:44:48.827041Z",
     "start_time": "2021-04-19T15:44:40.062220Z"
    },
    "hidden": true
   },
   "outputs": [],
   "source": [
    "import tensorflow as tf\n",
    "import numpy as np"
   ]
  },
  {
   "cell_type": "code",
   "execution_count": null,
   "metadata": {
    "ExecuteTime": {
     "end_time": "2021-04-19T15:44:54.587362Z",
     "start_time": "2021-04-19T15:44:53.979679Z"
    },
    "hidden": true
   },
   "outputs": [],
   "source": [
    "gpu = tf.config.list_physical_devices('GPU')[0]\n",
    "tf.config.experimental.set_memory_growth(gpu, True)"
   ]
  },
  {
   "cell_type": "code",
   "execution_count": null,
   "metadata": {
    "ExecuteTime": {
     "end_time": "2021-04-19T15:44:58.946078Z",
     "start_time": "2021-04-19T15:44:58.928116Z"
    },
    "hidden": true
   },
   "outputs": [],
   "source": [
    "a = np.random.random(size=(1000, 1000))\n",
    "b = np.random.random(size=(1000, 1000))\n",
    "b"
   ]
  },
  {
   "cell_type": "code",
   "execution_count": null,
   "metadata": {
    "ExecuteTime": {
     "end_time": "2021-04-19T15:45:01.615835Z",
     "start_time": "2021-04-19T15:45:01.608940Z"
    },
    "hidden": true
   },
   "outputs": [],
   "source": [
    "a * b"
   ]
  },
  {
   "cell_type": "code",
   "execution_count": null,
   "metadata": {
    "ExecuteTime": {
     "end_time": "2021-04-19T15:12:14.856437Z",
     "start_time": "2021-04-19T15:12:01.416207Z"
    },
    "hidden": true
   },
   "outputs": [],
   "source": [
    "(a @ b == np.dot(a, b)).all()"
   ]
  },
  {
   "cell_type": "code",
   "execution_count": null,
   "metadata": {
    "ExecuteTime": {
     "end_time": "2021-04-19T15:45:12.696641Z",
     "start_time": "2021-04-19T15:45:06.824971Z"
    },
    "hidden": true
   },
   "outputs": [],
   "source": [
    "%%timeit\n",
    "a @ b"
   ]
  },
  {
   "cell_type": "code",
   "execution_count": null,
   "metadata": {
    "ExecuteTime": {
     "end_time": "2021-04-19T15:45:13.279050Z",
     "start_time": "2021-04-19T15:45:12.807021Z"
    },
    "hidden": true
   },
   "outputs": [],
   "source": [
    "a = tf.Variable(a)\n",
    "b = tf.Variable(b)\n",
    "b"
   ]
  },
  {
   "cell_type": "code",
   "execution_count": null,
   "metadata": {
    "ExecuteTime": {
     "end_time": "2021-04-19T15:45:13.987445Z",
     "start_time": "2021-04-19T15:45:13.576416Z"
    },
    "hidden": true
   },
   "outputs": [],
   "source": [
    "%%timeit\n",
    "a @ b"
   ]
  },
  {
   "cell_type": "code",
   "execution_count": null,
   "metadata": {
    "ExecuteTime": {
     "end_time": "2021-04-19T15:45:33.556120Z",
     "start_time": "2021-04-19T15:45:33.535119Z"
    },
    "hidden": true
   },
   "outputs": [],
   "source": [
    "v = tf.Variable(np.random.random((1000, 1)))"
   ]
  },
  {
   "cell_type": "code",
   "execution_count": null,
   "metadata": {
    "ExecuteTime": {
     "end_time": "2021-04-19T15:45:34.501368Z",
     "start_time": "2021-04-19T15:45:34.482366Z"
    },
    "hidden": true,
    "scrolled": true
   },
   "outputs": [],
   "source": [
    "v"
   ]
  },
  {
   "cell_type": "code",
   "execution_count": null,
   "metadata": {
    "ExecuteTime": {
     "end_time": "2021-04-19T15:45:36.219512Z",
     "start_time": "2021-04-19T15:45:36.203512Z"
    },
    "hidden": true,
    "scrolled": true
   },
   "outputs": [],
   "source": [
    "a @ v"
   ]
  },
  {
   "cell_type": "code",
   "execution_count": null,
   "metadata": {
    "ExecuteTime": {
     "end_time": "2021-04-19T15:28:49.896571Z",
     "start_time": "2021-04-19T15:28:49.880571Z"
    },
    "hidden": true
   },
   "outputs": [],
   "source": [
    "result = a.numpy()"
   ]
  },
  {
   "cell_type": "code",
   "execution_count": null,
   "metadata": {
    "ExecuteTime": {
     "end_time": "2021-04-19T15:33:28.097765Z",
     "start_time": "2021-04-19T15:33:27.343696Z"
    },
    "hidden": true
   },
   "outputs": [],
   "source": [
    "np.savetxt('file.txt', result)"
   ]
  },
  {
   "cell_type": "code",
   "execution_count": null,
   "metadata": {
    "ExecuteTime": {
     "end_time": "2021-04-19T15:34:35.924566Z",
     "start_time": "2021-04-19T15:34:35.189345Z"
    },
    "hidden": true
   },
   "outputs": [],
   "source": [
    "l = np.loadtxt('file.txt')"
   ]
  },
  {
   "cell_type": "code",
   "execution_count": null,
   "metadata": {
    "ExecuteTime": {
     "end_time": "2021-04-19T15:34:38.340849Z",
     "start_time": "2021-04-19T15:34:38.328847Z"
    },
    "hidden": true,
    "scrolled": true
   },
   "outputs": [],
   "source": [
    "l"
   ]
  },
  {
   "cell_type": "code",
   "execution_count": null,
   "metadata": {
    "ExecuteTime": {
     "end_time": "2021-04-19T15:45:42.629953Z",
     "start_time": "2021-04-19T15:45:42.623951Z"
    },
    "hidden": true
   },
   "outputs": [],
   "source": [
    "def func(a, b):\n",
    "    c = a + b\n",
    "    c = c * b\n",
    "    c = a @ c\n",
    "    return c @ b"
   ]
  },
  {
   "cell_type": "code",
   "execution_count": null,
   "metadata": {
    "ExecuteTime": {
     "end_time": "2021-04-19T15:46:59.901461Z",
     "start_time": "2021-04-19T15:45:45.508320Z"
    },
    "hidden": true
   },
   "outputs": [],
   "source": [
    "%%timeit\n",
    "func(a, b)"
   ]
  },
  {
   "cell_type": "code",
   "execution_count": null,
   "metadata": {
    "ExecuteTime": {
     "end_time": "2021-04-19T15:47:02.476739Z",
     "start_time": "2021-04-19T15:47:02.461767Z"
    },
    "hidden": true
   },
   "outputs": [],
   "source": [
    "a_n = a.numpy()\n",
    "b_n = a.numpy()"
   ]
  },
  {
   "cell_type": "code",
   "execution_count": null,
   "metadata": {
    "ExecuteTime": {
     "end_time": "2021-04-19T15:47:04.189766Z",
     "start_time": "2021-04-19T15:47:02.589741Z"
    },
    "hidden": true
   },
   "outputs": [],
   "source": [
    "%%timeit\n",
    "func(a_n, b_n)"
   ]
  },
  {
   "cell_type": "code",
   "execution_count": null,
   "metadata": {
    "ExecuteTime": {
     "end_time": "2021-04-19T15:40:37.202614Z",
     "start_time": "2021-04-19T15:40:37.187592Z"
    },
    "hidden": true
   },
   "outputs": [],
   "source": [
    "@tf.function\n",
    "def func_tf(a, b):\n",
    "    c = a + b\n",
    "    c = c * b\n",
    "    c = a @ c\n",
    "    return c @ b"
   ]
  },
  {
   "cell_type": "code",
   "execution_count": null,
   "metadata": {
    "ExecuteTime": {
     "end_time": "2021-04-19T15:40:43.445442Z",
     "start_time": "2021-04-19T15:40:42.856445Z"
    },
    "hidden": true
   },
   "outputs": [],
   "source": [
    "func_tf(a, b)"
   ]
  },
  {
   "cell_type": "code",
   "execution_count": null,
   "metadata": {
    "ExecuteTime": {
     "end_time": "2021-04-19T15:42:00.390016Z",
     "start_time": "2021-04-19T15:40:45.735919Z"
    },
    "hidden": true
   },
   "outputs": [],
   "source": [
    "%%timeit\n",
    "func_tf(a, b)"
   ]
  },
  {
   "cell_type": "code",
   "execution_count": null,
   "metadata": {
    "hidden": true
   },
   "outputs": [],
   "source": []
  }
 ],
 "metadata": {
  "kernelspec": {
   "display_name": "Python 3 (ipykernel)",
   "language": "python",
   "name": "python3"
  },
  "language_info": {
   "codemirror_mode": {
    "name": "ipython",
    "version": 3
   },
   "file_extension": ".py",
   "mimetype": "text/x-python",
   "name": "python",
   "nbconvert_exporter": "python",
   "pygments_lexer": "ipython3",
   "version": "3.9.7"
  },
  "latex_envs": {
   "LaTeX_envs_menu_present": true,
   "autoclose": true,
   "autocomplete": false,
   "bibliofile": "biblio.bib",
   "cite_by": "apalike",
   "current_citInitial": 1,
   "eqLabelWithNumbers": true,
   "eqNumInitial": 1,
   "hotkeys": {
    "equation": "Ctrl-E",
    "itemize": "Ctrl-I"
   },
   "labels_anchors": false,
   "latex_user_defs": false,
   "report_style_numbering": true,
   "user_envs_cfg": false
  },
  "varInspector": {
   "cols": {
    "lenName": 16,
    "lenType": 16,
    "lenVar": 40
   },
   "kernels_config": {
    "python": {
     "delete_cmd_postfix": "",
     "delete_cmd_prefix": "del ",
     "library": "var_list.py",
     "varRefreshCmd": "print(var_dic_list())"
    },
    "r": {
     "delete_cmd_postfix": ") ",
     "delete_cmd_prefix": "rm(",
     "library": "var_list.r",
     "varRefreshCmd": "cat(var_dic_list()) "
    }
   },
   "position": {
    "height": "144px",
    "left": "1351px",
    "right": "20px",
    "top": "124px",
    "width": "350px"
   },
   "types_to_exclude": [
    "module",
    "function",
    "builtin_function_or_method",
    "instance",
    "_Feature"
   ],
   "window_display": true
  }
 },
 "nbformat": 4,
 "nbformat_minor": 2
}
